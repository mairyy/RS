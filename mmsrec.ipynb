{
 "cells": [
  {
   "cell_type": "code",
   "execution_count": 1,
   "id": "77cc6a14",
   "metadata": {
    "_cell_guid": "b1076dfc-b9ad-4769-8c92-a6c4dae69d19",
    "_uuid": "8f2839f25d086af736a60e9eeb907d3b93b6e0e5",
    "execution": {
     "iopub.execute_input": "2023-08-03T14:17:47.154992Z",
     "iopub.status.busy": "2023-08-03T14:17:47.154229Z",
     "iopub.status.idle": "2023-08-03T14:17:47.190217Z",
     "shell.execute_reply": "2023-08-03T14:17:47.188868Z"
    },
    "papermill": {
     "duration": 0.054712,
     "end_time": "2023-08-03T14:17:47.193334",
     "exception": false,
     "start_time": "2023-08-03T14:17:47.138622",
     "status": "completed"
    },
    "tags": []
   },
   "outputs": [
    {
     "name": "stdout",
     "output_type": "stream",
     "text": [
      "/kaggle/input/finetunetoys/finetune_amazon.yaml\n",
      "/kaggle/input/finetuneclothing/finetune_amazon.yaml\n"
     ]
    }
   ],
   "source": [
    "# This Python 3 environment comes with many helpful analytics libraries installed\n",
    "# It is defined by the kaggle/python Docker image: https://github.com/kaggle/docker-python\n",
    "# For example, here's several helpful packages to load\n",
    "\n",
    "import numpy as np # linear algebra\n",
    "import pandas as pd # data processing, CSV file I/O (e.g. pd.read_csv)\n",
    "\n",
    "# Input data files are available in the read-only \"../input/\" directory\n",
    "# For example, running this (by clicking run or pressing Shift+Enter) will list all files under the input directory\n",
    "\n",
    "import os\n",
    "for dirname, _, filenames in os.walk('/kaggle/input'):\n",
    "    for filename in filenames:\n",
    "        print(os.path.join(dirname, filename))\n",
    "        \n",
    "def remove_folder_contents(folder):\n",
    "    for the_file in os.listdir(folder):\n",
    "        file_path = os.path.join(folder, the_file)\n",
    "        try:\n",
    "            if os.path.isfile(file_path):\n",
    "                os.unlink(file_path)\n",
    "            elif os.path.isdir(file_path):\n",
    "                remove_folder_contents(file_path)\n",
    "                os.rmdir(file_path)\n",
    "        except Exception as e:\n",
    "            print(e)\n",
    "\n",
    "# You can write up to 20GB to the current directory (/kaggle/working/) that gets preserved as output when you create a version using \"Save & Run All\" \n",
    "# You can also write temporary files to /kaggle/temp/, but they won't be saved outside of the current session"
   ]
  },
  {
   "cell_type": "code",
   "execution_count": 2,
   "id": "aab12132",
   "metadata": {
    "execution": {
     "iopub.execute_input": "2023-08-03T14:17:47.217933Z",
     "iopub.status.busy": "2023-08-03T14:17:47.217527Z",
     "iopub.status.idle": "2023-08-03T14:18:33.259121Z",
     "shell.execute_reply": "2023-08-03T14:18:33.257336Z"
    },
    "papermill": {
     "duration": 46.057067,
     "end_time": "2023-08-03T14:18:33.262283",
     "exception": false,
     "start_time": "2023-08-03T14:17:47.205216",
     "status": "completed"
    },
    "tags": []
   },
   "outputs": [
    {
     "name": "stdout",
     "output_type": "stream",
     "text": [
      "Cloning into 'MMSRec-main'...\r\n",
      "remote: Enumerating objects: 161056, done.\u001b[K\r\n",
      "remote: Counting objects: 100% (122/122), done.\u001b[K\r\n",
      "remote: Compressing objects: 100% (98/98), done.\u001b[K\r\n",
      "remote: Total 161056 (delta 30), reused 89 (delta 16), pack-reused 160934\u001b[K\r\n",
      "Receiving objects: 100% (161056/161056), 619.44 MiB | 24.02 MiB/s, done.\r\n",
      "Resolving deltas: 100% (42/42), done.\r\n",
      "Updating files: 100% (164428/164428), done.\r\n"
     ]
    }
   ],
   "source": [
    "from kaggle_secrets import UserSecretsClient\n",
    "user_secrets = UserSecretsClient()\n",
    "secret_value_0 = user_secrets.get_secret(\"secret_tokens\")\n",
    "\n",
    "# folder_path = '/kaggle/working/MMSRec-main'\n",
    "# remove_folder_contents(folder_path)\n",
    "# os.rmdir(folder_path)\n",
    "\n",
    "!git clone https://seecret_value_0@github.com/mairyy/MMSRec-main.git"
   ]
  },
  {
   "cell_type": "code",
   "execution_count": 3,
   "id": "ab7e6fb4",
   "metadata": {
    "execution": {
     "iopub.execute_input": "2023-08-03T14:18:33.327734Z",
     "iopub.status.busy": "2023-08-03T14:18:33.327257Z",
     "iopub.status.idle": "2023-08-03T14:19:34.655331Z",
     "shell.execute_reply": "2023-08-03T14:19:34.653730Z"
    },
    "papermill": {
     "duration": 61.364314,
     "end_time": "2023-08-03T14:19:34.658604",
     "exception": false,
     "start_time": "2023-08-03T14:18:33.294290",
     "status": "completed"
    },
    "tags": []
   },
   "outputs": [
    {
     "name": "stdout",
     "output_type": "stream",
     "text": [
      "/kaggle/working/MMSRec-main\n",
      "Collecting git+https://github.com/openai/CLIP.git\r\n",
      "  Cloning https://github.com/openai/CLIP.git to /tmp/pip-req-build-i9lbv6z5\r\n",
      "  Running command git clone --filter=blob:none --quiet https://github.com/openai/CLIP.git /tmp/pip-req-build-i9lbv6z5\r\n",
      "  Resolved https://github.com/openai/CLIP.git to commit a1d071733d7111c9c014f024669f959182114e33\r\n",
      "  Preparing metadata (setup.py) ... \u001b[?25l-\b \b\\\b \bdone\r\n",
      "\u001b[?25hCollecting ftfy (from clip==1.0)\r\n",
      "  Downloading ftfy-6.1.1-py3-none-any.whl (53 kB)\r\n",
      "\u001b[2K     \u001b[90m━━━━━━━━━━━━━━━━━━━━━━━━━━━━━━━━━━━━━━━━\u001b[0m \u001b[32m53.1/53.1 kB\u001b[0m \u001b[31m2.2 MB/s\u001b[0m eta \u001b[36m0:00:00\u001b[0m\r\n",
      "\u001b[?25hRequirement already satisfied: regex in /opt/conda/lib/python3.10/site-packages (from clip==1.0) (2023.5.5)\r\n",
      "Requirement already satisfied: tqdm in /opt/conda/lib/python3.10/site-packages (from clip==1.0) (4.64.1)\r\n",
      "Requirement already satisfied: torch in /opt/conda/lib/python3.10/site-packages (from clip==1.0) (2.0.0+cpu)\r\n",
      "Requirement already satisfied: torchvision in /opt/conda/lib/python3.10/site-packages (from clip==1.0) (0.15.1+cpu)\r\n",
      "Requirement already satisfied: wcwidth>=0.2.5 in /opt/conda/lib/python3.10/site-packages (from ftfy->clip==1.0) (0.2.6)\r\n",
      "Requirement already satisfied: filelock in /opt/conda/lib/python3.10/site-packages (from torch->clip==1.0) (3.12.0)\r\n",
      "Requirement already satisfied: typing-extensions in /opt/conda/lib/python3.10/site-packages (from torch->clip==1.0) (4.5.0)\r\n",
      "Requirement already satisfied: sympy in /opt/conda/lib/python3.10/site-packages (from torch->clip==1.0) (1.12)\r\n",
      "Requirement already satisfied: networkx in /opt/conda/lib/python3.10/site-packages (from torch->clip==1.0) (3.1)\r\n",
      "Requirement already satisfied: jinja2 in /opt/conda/lib/python3.10/site-packages (from torch->clip==1.0) (3.1.2)\r\n",
      "Requirement already satisfied: numpy in /opt/conda/lib/python3.10/site-packages (from torchvision->clip==1.0) (1.23.5)\r\n",
      "Requirement already satisfied: requests in /opt/conda/lib/python3.10/site-packages (from torchvision->clip==1.0) (2.28.2)\r\n",
      "Requirement already satisfied: pillow!=8.3.*,>=5.3.0 in /opt/conda/lib/python3.10/site-packages (from torchvision->clip==1.0) (9.5.0)\r\n",
      "Requirement already satisfied: MarkupSafe>=2.0 in /opt/conda/lib/python3.10/site-packages (from jinja2->torch->clip==1.0) (2.1.2)\r\n",
      "Requirement already satisfied: charset-normalizer<4,>=2 in /opt/conda/lib/python3.10/site-packages (from requests->torchvision->clip==1.0) (2.1.1)\r\n",
      "Requirement already satisfied: idna<4,>=2.5 in /opt/conda/lib/python3.10/site-packages (from requests->torchvision->clip==1.0) (3.4)\r\n",
      "Requirement already satisfied: urllib3<1.27,>=1.21.1 in /opt/conda/lib/python3.10/site-packages (from requests->torchvision->clip==1.0) (1.26.15)\r\n",
      "Requirement already satisfied: certifi>=2017.4.17 in /opt/conda/lib/python3.10/site-packages (from requests->torchvision->clip==1.0) (2023.5.7)\r\n",
      "Requirement already satisfied: mpmath>=0.19 in /opt/conda/lib/python3.10/site-packages (from sympy->torch->clip==1.0) (1.3.0)\r\n",
      "Building wheels for collected packages: clip\r\n",
      "  Building wheel for clip (setup.py) ... \u001b[?25l-\b \b\\\b \b|\b \bdone\r\n",
      "\u001b[?25h  Created wheel for clip: filename=clip-1.0-py3-none-any.whl size=1369540 sha256=0d2ec7fe08b90e89bd3bdf03e5a8ca10bad94cc2ef5b2b91933184e9d2f51897\r\n",
      "  Stored in directory: /tmp/pip-ephem-wheel-cache-o6_o9840/wheels/da/2b/4c/d6691fa9597aac8bb85d2ac13b112deb897d5b50f5ad9a37e4\r\n",
      "Successfully built clip\r\n",
      "Installing collected packages: ftfy, clip\r\n",
      "Successfully installed clip-1.0 ftfy-6.1.1\r\n",
      "\u001b[33mWARNING: Running pip as the 'root' user can result in broken permissions and conflicting behaviour with the system package manager. It is recommended to use a virtual environment instead: https://pip.pypa.io/warnings/venv\u001b[0m\u001b[33m\r\n",
      "\u001b[0m--2023-08-03 14:18:56--  https://openaipublic.azureedge.net/clip/models/40d365715913c9da98579312b702a82c18be219cc2a73407c4526f58eba950af/ViT-B-32.pt\r\n",
      "Resolving openaipublic.azureedge.net (openaipublic.azureedge.net)... 13.107.246.67, 13.107.213.67, 2620:1ec:bdf::67, ...\r\n",
      "Connecting to openaipublic.azureedge.net (openaipublic.azureedge.net)|13.107.246.67|:443... connected.\r\n",
      "HTTP request sent, awaiting response... 200 OK\r\n",
      "Length: 353976522 (338M) [application/octet-stream]\r\n",
      "Saving to: ‘./weights/clip/ViT-B-32.pt’\r\n",
      "\r\n",
      "ViT-B-32.pt         100%[===================>] 337.58M  13.8MB/s    in 21s     \r\n",
      "\r\n",
      "2023-08-03 14:19:17 (15.8 MB/s) - ‘./weights/clip/ViT-B-32.pt’ saved [353976522/353976522]\r\n",
      "\r\n",
      "/kaggle/working/MMSRec-main\n",
      "Requirement already satisfied: wandb in /opt/conda/lib/python3.10/site-packages (0.15.4)\r\n",
      "Requirement already satisfied: easydict in /opt/conda/lib/python3.10/site-packages (1.10)\r\n",
      "Collecting pynvml\r\n",
      "  Downloading pynvml-11.5.0-py3-none-any.whl (53 kB)\r\n",
      "\u001b[2K     \u001b[90m━━━━━━━━━━━━━━━━━━━━━━━━━━━━━━━━━━━━━━━━\u001b[0m \u001b[32m53.1/53.1 kB\u001b[0m \u001b[31m1.5 MB/s\u001b[0m eta \u001b[36m0:00:00\u001b[0m\r\n",
      "\u001b[?25hRequirement already satisfied: torchaudio in /opt/conda/lib/python3.10/site-packages (2.0.1+cpu)\r\n",
      "Collecting decord\r\n",
      "  Downloading decord-0.6.0-py3-none-manylinux2010_x86_64.whl (13.6 MB)\r\n",
      "\u001b[2K     \u001b[90m━━━━━━━━━━━━━━━━━━━━━━━━━━━━━━━━━━━━━━━━\u001b[0m \u001b[32m13.6/13.6 MB\u001b[0m \u001b[31m46.5 MB/s\u001b[0m eta \u001b[36m0:00:00\u001b[0m\r\n",
      "\u001b[?25hCollecting jsonlines\r\n",
      "  Downloading jsonlines-3.1.0-py3-none-any.whl (8.6 kB)\r\n",
      "Requirement already satisfied: transformers in /opt/conda/lib/python3.10/site-packages (4.30.1)\r\n",
      "Requirement already satisfied: torchvision in /opt/conda/lib/python3.10/site-packages (0.15.1+cpu)\r\n",
      "Requirement already satisfied: Click!=8.0.0,>=7.0 in /opt/conda/lib/python3.10/site-packages (from wandb) (8.1.3)\r\n",
      "Requirement already satisfied: GitPython!=3.1.29,>=1.0.0 in /opt/conda/lib/python3.10/site-packages (from wandb) (3.1.31)\r\n",
      "Requirement already satisfied: requests<3,>=2.0.0 in /opt/conda/lib/python3.10/site-packages (from wandb) (2.28.2)\r\n",
      "Requirement already satisfied: psutil>=5.0.0 in /opt/conda/lib/python3.10/site-packages (from wandb) (5.9.3)\r\n",
      "Requirement already satisfied: sentry-sdk>=1.0.0 in /opt/conda/lib/python3.10/site-packages (from wandb) (1.25.1)\r\n",
      "Requirement already satisfied: docker-pycreds>=0.4.0 in /opt/conda/lib/python3.10/site-packages (from wandb) (0.4.0)\r\n",
      "Requirement already satisfied: PyYAML in /opt/conda/lib/python3.10/site-packages (from wandb) (5.4.1)\r\n",
      "Requirement already satisfied: pathtools in /opt/conda/lib/python3.10/site-packages (from wandb) (0.1.2)\r\n",
      "Requirement already satisfied: setproctitle in /opt/conda/lib/python3.10/site-packages (from wandb) (1.3.2)\r\n",
      "Requirement already satisfied: setuptools in /opt/conda/lib/python3.10/site-packages (from wandb) (59.8.0)\r\n",
      "Requirement already satisfied: appdirs>=1.4.3 in /opt/conda/lib/python3.10/site-packages (from wandb) (1.4.4)\r\n",
      "Requirement already satisfied: protobuf!=4.21.0,<5,>=3.19.0 in /opt/conda/lib/python3.10/site-packages (from wandb) (3.20.3)\r\n",
      "Requirement already satisfied: torch==2.0.0 in /opt/conda/lib/python3.10/site-packages (from torchaudio) (2.0.0+cpu)\r\n",
      "Requirement already satisfied: filelock in /opt/conda/lib/python3.10/site-packages (from torch==2.0.0->torchaudio) (3.12.0)\r\n",
      "Requirement already satisfied: typing-extensions in /opt/conda/lib/python3.10/site-packages (from torch==2.0.0->torchaudio) (4.5.0)\r\n",
      "Requirement already satisfied: sympy in /opt/conda/lib/python3.10/site-packages (from torch==2.0.0->torchaudio) (1.12)\r\n",
      "Requirement already satisfied: networkx in /opt/conda/lib/python3.10/site-packages (from torch==2.0.0->torchaudio) (3.1)\r\n",
      "Requirement already satisfied: jinja2 in /opt/conda/lib/python3.10/site-packages (from torch==2.0.0->torchaudio) (3.1.2)\r\n",
      "Requirement already satisfied: numpy>=1.14.0 in /opt/conda/lib/python3.10/site-packages (from decord) (1.23.5)\r\n",
      "Requirement already satisfied: attrs>=19.2.0 in /opt/conda/lib/python3.10/site-packages (from jsonlines) (23.1.0)\r\n",
      "Requirement already satisfied: huggingface-hub<1.0,>=0.14.1 in /opt/conda/lib/python3.10/site-packages (from transformers) (0.15.1)\r\n",
      "Requirement already satisfied: packaging>=20.0 in /opt/conda/lib/python3.10/site-packages (from transformers) (21.3)\r\n",
      "Requirement already satisfied: regex!=2019.12.17 in /opt/conda/lib/python3.10/site-packages (from transformers) (2023.5.5)\r\n",
      "Requirement already satisfied: tokenizers!=0.11.3,<0.14,>=0.11.1 in /opt/conda/lib/python3.10/site-packages (from transformers) (0.13.3)\r\n",
      "Requirement already satisfied: safetensors>=0.3.1 in /opt/conda/lib/python3.10/site-packages (from transformers) (0.3.1)\r\n",
      "Requirement already satisfied: tqdm>=4.27 in /opt/conda/lib/python3.10/site-packages (from transformers) (4.64.1)\r\n",
      "Requirement already satisfied: pillow!=8.3.*,>=5.3.0 in /opt/conda/lib/python3.10/site-packages (from torchvision) (9.5.0)\r\n",
      "Requirement already satisfied: six>=1.4.0 in /opt/conda/lib/python3.10/site-packages (from docker-pycreds>=0.4.0->wandb) (1.16.0)\r\n",
      "Requirement already satisfied: gitdb<5,>=4.0.1 in /opt/conda/lib/python3.10/site-packages (from GitPython!=3.1.29,>=1.0.0->wandb) (4.0.10)\r\n",
      "Requirement already satisfied: fsspec in /opt/conda/lib/python3.10/site-packages (from huggingface-hub<1.0,>=0.14.1->transformers) (2023.6.0)\r\n",
      "Requirement already satisfied: pyparsing!=3.0.5,>=2.0.2 in /opt/conda/lib/python3.10/site-packages (from packaging>=20.0->transformers) (3.0.9)\r\n",
      "Requirement already satisfied: charset-normalizer<4,>=2 in /opt/conda/lib/python3.10/site-packages (from requests<3,>=2.0.0->wandb) (2.1.1)\r\n",
      "Requirement already satisfied: idna<4,>=2.5 in /opt/conda/lib/python3.10/site-packages (from requests<3,>=2.0.0->wandb) (3.4)\r\n",
      "Requirement already satisfied: urllib3<1.27,>=1.21.1 in /opt/conda/lib/python3.10/site-packages (from requests<3,>=2.0.0->wandb) (1.26.15)\r\n",
      "Requirement already satisfied: certifi>=2017.4.17 in /opt/conda/lib/python3.10/site-packages (from requests<3,>=2.0.0->wandb) (2023.5.7)\r\n",
      "Requirement already satisfied: smmap<6,>=3.0.1 in /opt/conda/lib/python3.10/site-packages (from gitdb<5,>=4.0.1->GitPython!=3.1.29,>=1.0.0->wandb) (5.0.0)\r\n",
      "Requirement already satisfied: MarkupSafe>=2.0 in /opt/conda/lib/python3.10/site-packages (from jinja2->torch==2.0.0->torchaudio) (2.1.2)\r\n",
      "Requirement already satisfied: mpmath>=0.19 in /opt/conda/lib/python3.10/site-packages (from sympy->torch==2.0.0->torchaudio) (1.3.0)\r\n",
      "Installing collected packages: pynvml, jsonlines, decord\r\n",
      "Successfully installed decord-0.6.0 jsonlines-3.1.0 pynvml-11.5.0\r\n",
      "\u001b[33mWARNING: Running pip as the 'root' user can result in broken permissions and conflicting behaviour with the system package manager. It is recommended to use a virtual environment instead: https://pip.pypa.io/warnings/venv\u001b[0m\u001b[33m\r\n",
      "\u001b[0m"
     ]
    }
   ],
   "source": [
    "%cd '/kaggle/working/MMSRec-main'\n",
    "!sh weights/clip/download.sh\n",
    "%cd '/kaggle/working/MMSRec-main'\n",
    "!pip install wandb easydict pynvml torchaudio decord jsonlines transformers torchvision"
   ]
  },
  {
   "cell_type": "markdown",
   "id": "e7af62a3",
   "metadata": {
    "papermill": {
     "duration": 0.04692,
     "end_time": "2023-08-03T14:19:34.749998",
     "exception": false,
     "start_time": "2023-08-03T14:19:34.703078",
     "status": "completed"
    },
    "tags": []
   },
   "source": [
    "# finetune clothings"
   ]
  },
  {
   "cell_type": "code",
   "execution_count": 4,
   "id": "ce854268",
   "metadata": {
    "execution": {
     "iopub.execute_input": "2023-08-03T14:19:34.845928Z",
     "iopub.status.busy": "2023-08-03T14:19:34.844850Z",
     "iopub.status.idle": "2023-08-03T14:20:33.369989Z",
     "shell.execute_reply": "2023-08-03T14:20:33.367580Z"
    },
    "papermill": {
     "duration": 58.577792,
     "end_time": "2023-08-03T14:20:33.373713",
     "exception": false,
     "start_time": "2023-08-03T14:19:34.795921",
     "status": "completed"
    },
    "tags": []
   },
   "outputs": [
    {
     "name": "stdout",
     "output_type": "stream",
     "text": [
      "08/03/2023 14:20:19 - INFO - __main__ - {'config': '/kaggle/input/finetuneclothing/finetune_amazon.yaml', 'wandb_enable': False, 'project_name': '', 'display_name': '', 'num_worker': 8, 'train_item_file': './dataset/amazon/processed/Clothing/item_feature.jsonl', 'train_seq_file': './dataset/amazon/processed/Clothing/train_seq.jsonl', 'eval_item_file': './dataset/amazon/processed/Clothing/item_feature.jsonl', 'eval_seq_file': './dataset/amazon/processed/Clothing/eval_seq.jsonl', 'test_item_file': './dataset/amazon/processed/Clothing/item_feature.jsonl', 'test_seq_file': './dataset/amazon/processed/Clothing/test_seq.jsonl', 'max_seq_length': 20, 'train_vision_format': 'embed', 'eval_vision_format': 'embed', 'test_vision_format': 'embed', 'max_vision_frames': 10, 'train_text_format': 'embed', 'eval_text_format': 'embed', 'test_text_format': 'embed', 'clip_model_path': './weights/clip/ViT-B-32.pt', 'vision_feature_embed_dim': 512, 'text_feature_embed_dim': 512, 'fusion_embed_dim': 512, 'fusion_layers': 2, 'fusion_heads': 8, 'fusion_feedforward_dim': 1024, 'fusion_dropout': 0.5, 'fusion_embed_dropout': 0.2, 'initializer_range': 0.02, 'seed': 42, 'log_file': './logs/finetune-amazon-2layer.log', 'train_batch_size': 1024, 'eval_batch_size': 1024, 'test_batch_size': 1024, 'num_train_epochs': 500, 'learning_rate': 0.001, 'lr_scheduler_gamma': 1.0, 'max_grad_norm': 1.0, 'contrastive_temperature': 0.05, 'ce_mask_ratio': 0.2, 'early_stopping': 10, 'model_save_path': './weights/finetune-Clothing-8192batch', 'model_resume_path': './weights/pretrain-webvid-2layer-512dim', 'rank': 0, 'local_rank': 0, 'world_size': 1, 'device': 'cpu'}\r\n",
      "Dataset train items : 23033\r\n",
      "Dataset train sequence : 160516\r\n",
      "/opt/conda/lib/python3.10/site-packages/torch/utils/data/dataloader.py:561: UserWarning: This DataLoader will create 8 worker processes in total. Our suggested max number of worker in current system is 4, which is smaller than what this DataLoader is going to create. Please be aware that excessive worker creation might get DataLoader running slow or even freeze, lower the worker number to avoid potential slowness/freeze if necessary.\r\n",
      "  warnings.warn(_create_warning_msg(\r\n",
      "Dataset eval items : 23033\r\n",
      "Dataset eval sequence : 39387\r\n",
      "Dataset test items : 23033\r\n",
      "Dataset test sequence : 39387\r\n",
      "Traceback (most recent call last):\r\n",
      "  File \"/kaggle/working/MMSRec-main/finetune_amazon.py\", line 125, in <module>\r\n",
      "    main()\r\n",
      "  File \"/kaggle/working/MMSRec-main/finetune_amazon.py\", line 118, in main\r\n",
      "    run(args)\r\n",
      "  File \"/kaggle/working/MMSRec-main/finetune_amazon.py\", line 73, in run\r\n",
      "    fusion_model = DDP(fusion_model, device_ids=[args.local_rank], output_device=args.local_rank)\r\n",
      "  File \"/opt/conda/lib/python3.10/site-packages/torch/nn/parallel/distributed.py\", line 603, in __init__\r\n",
      "    self._log_and_throw(\r\n",
      "  File \"/opt/conda/lib/python3.10/site-packages/torch/nn/parallel/distributed.py\", line 769, in _log_and_throw\r\n",
      "    raise err_type(err_msg)\r\n",
      "ValueError: DistributedDataParallel device_ids and output_device arguments only work with single-device/multiple-device GPU modules or CPU modules, but got device_ids [0], output_device 0, and module parameters {device(type='cpu')}.\r\n",
      "Traceback (most recent call last):\r\n",
      "  File \"/opt/conda/bin/torchrun\", line 8, in <module>\r\n",
      "    sys.exit(main())\r\n",
      "  File \"/opt/conda/lib/python3.10/site-packages/torch/distributed/elastic/multiprocessing/errors/__init__.py\", line 346, in wrapper\r\n",
      "    return f(*args, **kwargs)\r\n",
      "  File \"/opt/conda/lib/python3.10/site-packages/torch/distributed/run.py\", line 794, in main\r\n",
      "    run(args)\r\n",
      "  File \"/opt/conda/lib/python3.10/site-packages/torch/distributed/run.py\", line 785, in run\r\n",
      "    elastic_launch(\r\n",
      "  File \"/opt/conda/lib/python3.10/site-packages/torch/distributed/launcher/api.py\", line 134, in __call__\r\n",
      "    return launch_agent(self._config, self._entrypoint, list(args))\r\n",
      "  File \"/opt/conda/lib/python3.10/site-packages/torch/distributed/launcher/api.py\", line 250, in launch_agent\r\n",
      "    raise ChildFailedError(\r\n",
      "torch.distributed.elastic.multiprocessing.errors.ChildFailedError: \r\n",
      "============================================================\r\n",
      "finetune_amazon.py FAILED\r\n",
      "------------------------------------------------------------\r\n",
      "Failures:\r\n",
      "  <NO_OTHER_FAILURES>\r\n",
      "------------------------------------------------------------\r\n",
      "Root Cause (first observed failure):\r\n",
      "[0]:\r\n",
      "  time      : 2023-08-03_14:20:32\r\n",
      "  host      : 217cf00f2fc1\r\n",
      "  rank      : 0 (local_rank: 0)\r\n",
      "  exitcode  : 1 (pid: 110)\r\n",
      "  error_file: <N/A>\r\n",
      "  traceback : To enable traceback see: https://pytorch.org/docs/stable/elastic/errors.html\r\n",
      "============================================================\r\n"
     ]
    }
   ],
   "source": [
    "!torchrun --nnodes=1:5 --nproc_per_node=1 --max_restarts=0 --rdzv_id=1 --rdzv_backend=c10d --rdzv_endpoint=\"127.0.0.1:12309\" finetune_amazon.py --config=\"/kaggle/input/finetuneclothing/finetune_amazon.yaml\""
   ]
  },
  {
   "cell_type": "markdown",
   "id": "26142ce1",
   "metadata": {
    "papermill": {
     "duration": 0.046087,
     "end_time": "2023-08-03T14:20:33.466770",
     "exception": false,
     "start_time": "2023-08-03T14:20:33.420683",
     "status": "completed"
    },
    "tags": []
   },
   "source": [
    "# finetune sports"
   ]
  },
  {
   "cell_type": "code",
   "execution_count": 5,
   "id": "e8a20ab4",
   "metadata": {
    "execution": {
     "iopub.execute_input": "2023-08-03T14:20:33.560412Z",
     "iopub.status.busy": "2023-08-03T14:20:33.558952Z",
     "iopub.status.idle": "2023-08-03T14:21:13.829019Z",
     "shell.execute_reply": "2023-08-03T14:21:13.827241Z"
    },
    "papermill": {
     "duration": 40.32114,
     "end_time": "2023-08-03T14:21:13.833014",
     "exception": false,
     "start_time": "2023-08-03T14:20:33.511874",
     "status": "completed"
    },
    "tags": []
   },
   "outputs": [
    {
     "name": "stdout",
     "output_type": "stream",
     "text": [
      "/opt/conda/bin/python3.10: can't open file '/kaggle/working/MMSRec-main/MMSRec-main/finetune_amazon.py': [Errno 2] No such file or directory\r\n",
      "Traceback (most recent call last):\r\n",
      "  File \"/opt/conda/bin/torchrun\", line 8, in <module>\r\n",
      "    sys.exit(main())\r\n",
      "  File \"/opt/conda/lib/python3.10/site-packages/torch/distributed/elastic/multiprocessing/errors/__init__.py\", line 346, in wrapper\r\n",
      "    return f(*args, **kwargs)\r\n",
      "  File \"/opt/conda/lib/python3.10/site-packages/torch/distributed/run.py\", line 794, in main\r\n",
      "    run(args)\r\n",
      "  File \"/opt/conda/lib/python3.10/site-packages/torch/distributed/run.py\", line 785, in run\r\n",
      "    elastic_launch(\r\n",
      "  File \"/opt/conda/lib/python3.10/site-packages/torch/distributed/launcher/api.py\", line 134, in __call__\r\n",
      "    return launch_agent(self._config, self._entrypoint, list(args))\r\n",
      "  File \"/opt/conda/lib/python3.10/site-packages/torch/distributed/launcher/api.py\", line 250, in launch_agent\r\n",
      "    raise ChildFailedError(\r\n",
      "torch.distributed.elastic.multiprocessing.errors.ChildFailedError: \r\n",
      "============================================================\r\n",
      "MMSRec-main/finetune_amazon.py FAILED\r\n",
      "------------------------------------------------------------\r\n",
      "Failures:\r\n",
      "  <NO_OTHER_FAILURES>\r\n",
      "------------------------------------------------------------\r\n",
      "Root Cause (first observed failure):\r\n",
      "[0]:\r\n",
      "  time      : 2023-08-03_14:21:13\r\n",
      "  host      : 217cf00f2fc1\r\n",
      "  rank      : 0 (local_rank: 0)\r\n",
      "  exitcode  : 2 (pid: 130)\r\n",
      "  error_file: <N/A>\r\n",
      "  traceback : To enable traceback see: https://pytorch.org/docs/stable/elastic/errors.html\r\n",
      "============================================================\r\n"
     ]
    }
   ],
   "source": [
    "!torchrun --nnodes=1:5 --nproc_per_node=1 --max_restarts=0 --rdzv_id=1 --rdzv_backend=c10d --rdzv_endpoint=\"127.0.0.1:12309\" MMSRec-main/finetune_amazon.py --config=\"MMSRec-main/configs/finetuning/finetune_amazon.yaml\""
   ]
  },
  {
   "cell_type": "code",
   "execution_count": 6,
   "id": "dfb61062",
   "metadata": {
    "execution": {
     "iopub.execute_input": "2023-08-03T14:21:13.946094Z",
     "iopub.status.busy": "2023-08-03T14:21:13.944815Z",
     "iopub.status.idle": "2023-08-03T14:21:15.071243Z",
     "shell.execute_reply": "2023-08-03T14:21:15.069428Z"
    },
    "papermill": {
     "duration": 1.193306,
     "end_time": "2023-08-03T14:21:15.074626",
     "exception": false,
     "start_time": "2023-08-03T14:21:13.881320",
     "status": "completed"
    },
    "tags": []
   },
   "outputs": [
    {
     "name": "stdout",
     "output_type": "stream",
     "text": [
      "\tzip warning: name not matched: /kaggle/working/logs\r\n",
      "\r\n",
      "zip error: Nothing to do! (try: zip -r logs.zip . -i /kaggle/working/logs)\r\n"
     ]
    }
   ],
   "source": [
    "!zip -r logs.zip /kaggle/working/logs"
   ]
  },
  {
   "cell_type": "code",
   "execution_count": 7,
   "id": "3286ff16",
   "metadata": {
    "execution": {
     "iopub.execute_input": "2023-08-03T14:21:15.175349Z",
     "iopub.status.busy": "2023-08-03T14:21:15.174910Z",
     "iopub.status.idle": "2023-08-03T14:21:15.184930Z",
     "shell.execute_reply": "2023-08-03T14:21:15.183259Z"
    },
    "papermill": {
     "duration": 0.064651,
     "end_time": "2023-08-03T14:21:15.188401",
     "exception": false,
     "start_time": "2023-08-03T14:21:15.123750",
     "status": "completed"
    },
    "tags": []
   },
   "outputs": [
    {
     "name": "stdout",
     "output_type": "stream",
     "text": [
      "/kaggle/working/MMSRec-main\n"
     ]
    }
   ],
   "source": [
    "%cd '/kaggle/working/MMSRec-main'"
   ]
  },
  {
   "cell_type": "code",
   "execution_count": 8,
   "id": "cb6348a2",
   "metadata": {
    "execution": {
     "iopub.execute_input": "2023-08-03T14:21:15.285064Z",
     "iopub.status.busy": "2023-08-03T14:21:15.284645Z",
     "iopub.status.idle": "2023-08-03T14:21:17.416088Z",
     "shell.execute_reply": "2023-08-03T14:21:17.414594Z"
    },
    "papermill": {
     "duration": 2.185245,
     "end_time": "2023-08-03T14:21:17.421123",
     "exception": false,
     "start_time": "2023-08-03T14:21:15.235878",
     "status": "completed"
    },
    "tags": []
   },
   "outputs": [
    {
     "name": "stdout",
     "output_type": "stream",
     "text": [
      "tensor([-5.2772e-01,  1.2310e-01,  3.0335e-01, -3.6746e-01, -3.5598e-01,\n",
      "        -2.8564e-01,  1.7240e-01, -1.7979e-01,  2.5033e-01,  2.3522e-01,\n",
      "         2.4279e-01, -1.7670e-01, -8.6251e-02,  1.7805e-01, -4.9574e-01,\n",
      "         1.1190e-02,  2.0202e+00, -5.3876e-02,  2.7778e-01,  2.7165e-01,\n",
      "         6.7000e-02, -7.0525e-02, -1.2943e-01, -1.3063e-01,  2.1310e-01,\n",
      "         3.2829e-01, -2.8973e-01,  4.9118e-02, -4.6320e-02,  4.6260e-02,\n",
      "        -1.7640e-01, -1.4107e-01,  1.9656e-02,  8.6383e-02,  2.2983e-01,\n",
      "        -2.4601e-01,  3.0743e-01, -5.6509e-01,  5.3395e-01,  4.1067e-01,\n",
      "        -6.8871e-01,  4.1708e-01,  3.2370e-01, -3.6191e-01,  3.7729e-01,\n",
      "         1.5934e-01,  4.2192e-02, -7.3513e-02, -2.3209e-01, -4.5796e-01,\n",
      "        -5.1360e-02, -3.0820e-02, -3.1870e-01,  2.6166e-01, -2.8773e-01,\n",
      "        -8.5041e-02, -2.0502e-01, -1.8222e-01, -4.2023e-01, -7.9205e-01,\n",
      "         5.6819e-02,  1.9526e-01, -2.4171e-01, -3.9959e-01,  1.2224e-01,\n",
      "        -1.7529e-01, -2.3764e-01, -7.0210e-02, -8.7899e-01, -7.9045e-02,\n",
      "         6.3235e-01, -3.7358e-01,  7.5457e-03, -1.4194e-01, -6.6800e-02,\n",
      "        -2.7713e-01,  1.2254e-01, -5.0007e-01,  1.0567e-01, -5.8319e-02,\n",
      "         3.3123e-01, -1.8567e-01,  2.3482e-01, -4.6266e-01,  3.2824e-01,\n",
      "        -1.8841e-01,  9.0879e-04,  6.6809e-01, -2.6878e-01,  3.6782e-01,\n",
      "         6.2736e-01,  1.9573e-01, -8.4895e-02,  3.0352e-01, -3.6107e-01,\n",
      "         6.1577e-02,  4.5664e-01,  3.1090e-02,  1.8144e-01,  1.7557e-01,\n",
      "         1.9084e-01, -1.5923e-01, -5.1442e-01, -4.1312e-01,  1.4707e-02,\n",
      "         1.1626e-01,  4.1020e-01, -2.0149e-01, -5.8261e-01,  8.1311e-02,\n",
      "        -1.8493e-01, -1.3335e-01, -1.2228e-02,  4.3489e-01, -1.4424e-01,\n",
      "        -6.0693e-02,  4.6396e-01, -6.8476e-02,  1.9504e-01, -3.3197e-01,\n",
      "        -4.2098e-01,  1.3759e-01,  4.0805e-04, -5.8557e-01, -1.9605e-01,\n",
      "         1.7033e-01,  3.4643e-02, -1.5697e-01,  3.3549e-01, -1.0121e-01,\n",
      "        -2.5788e-01,  3.6932e-02, -2.2206e-01,  6.5107e-02,  3.0711e-01,\n",
      "        -1.0034e-02,  2.2514e-01,  5.6207e-02,  9.5002e-02,  5.1963e-02,\n",
      "         4.0170e-02, -3.8399e-01, -4.6458e-01, -1.5280e-01, -5.6908e-01,\n",
      "        -2.3423e-01, -1.9500e-01,  1.3895e-01,  3.1373e-01, -2.8631e-01,\n",
      "         1.7672e-02,  1.1958e-01, -1.2345e-01,  2.0263e-01, -3.0945e-01,\n",
      "         4.2158e-01, -1.6032e-01,  1.9329e-01, -8.3149e-02, -3.2814e-01,\n",
      "        -1.1851e-01, -5.4406e-02,  1.0654e-02, -6.6877e-03, -3.6747e-02,\n",
      "        -1.9338e-01, -2.4020e-02, -1.7436e-01,  5.3622e-01,  2.1930e-01,\n",
      "        -7.5443e-02,  2.4503e-02,  5.8259e-02, -6.8445e-02,  1.9636e-01,\n",
      "         8.2436e-02, -3.8197e-01, -1.2693e-01, -9.8410e-02, -3.9592e-02,\n",
      "        -6.3538e-01, -9.1520e-02,  3.2790e-01, -2.5468e-01,  2.5177e-01,\n",
      "        -7.4626e-01,  1.4584e-01, -1.2547e-01,  1.4615e-01,  2.5464e-01,\n",
      "         2.3978e-01,  1.2254e-02,  2.6329e-01, -1.6507e-01,  1.8732e-01,\n",
      "        -4.8136e-01,  1.8203e-01,  1.0359e+00,  2.3530e-01, -1.1126e-01,\n",
      "         2.8097e-01, -3.3075e-01,  2.1441e-01,  2.8836e-02, -1.0125e-01,\n",
      "         3.2565e-01, -1.9216e-02, -4.5705e-01,  8.3746e-01, -3.3003e-01,\n",
      "        -4.7248e-01,  2.6558e-01, -6.9292e-02,  5.6134e-02,  4.5944e-01,\n",
      "        -1.4695e-03,  4.0714e-34,  1.0695e-01,  2.8699e-42,  2.8699e-42,\n",
      "         1.5434e-36,  4.0926e-34,  0.0000e+00,  0.0000e+00,  0.0000e+00,\n",
      "         0.0000e+00,  1.6530e-39,  2.5612e-09,  6.7130e-07,  1.7472e-04,\n",
      "         4.5450e+30,  1.8524e+28,  5.5339e-39,  1.5365e+16,  1.5365e+16,\n",
      "         1.5365e+16,  1.5365e+16,  1.5365e+16,  1.5365e+16,  1.5365e+16,\n",
      "         1.5365e+16,  1.5365e+16,  1.5365e+16,  1.5365e+16,  1.5365e+16,\n",
      "         1.5365e+16,  1.5365e+16,  1.5365e+16,  1.3634e+07, -2.2132e-20,\n",
      "         2.1431e-40,  1.8367e-40,  1.3631e+07,  7.1887e-43,  4.0926e-34,\n",
      "         0.0000e+00,  9.8154e-37,  1.3970e-38,  1.3959e-38,  1.7449e-39,\n",
      "         0.0000e+00,  0.0000e+00,  0.0000e+00,  0.0000e+00,  4.1489e-08,\n",
      "         1.6969e-07,  1.2929e+22,  5.1262e-11,  1.5866e+10,  1.8413e-40,\n",
      "         3.8519e-34,  1.1210e-44,  3.9443e-31,  5.6805e-39,  1.1210e-44,\n",
      "         1.0097e-28,  0.0000e+00,  0.0000e+00,  0.0000e+00,  8.3226e-41,\n",
      "         1.0314e-08,  2.7001e-06,  1.6845e-10,  2.8175e+20,  1.3644e+07,\n",
      "         7.1887e-43,  4.0926e-34,  0.0000e+00, -2.2129e-20,  2.1431e-40,\n",
      "         1.8367e-40,  1.6530e-39,  0.0000e+00,  0.0000e+00,  0.0000e+00,\n",
      "         3.3407e-42,  4.1489e-08,  1.6969e-07,  8.8849e+32,  1.8394e+25,\n",
      "         1.3660e+07,  4.0429e-39,  0.0000e+00,  4.6432e-37,  6.3058e-44,\n",
      "         0.0000e+00,  2.7551e-40,  0.0000e+00,  2.7551e-40,  0.0000e+00,\n",
      "         1.7632e-38,  0.0000e+00,  5.0556e-33,  0.0000e+00,  1.3631e+07,\n",
      "         2.5195e-42,  1.4059e-32,  0.0000e+00,  9.1835e-41,  1.3631e+07,\n",
      "         2.1594e-42,  2.7551e-40,  1.7632e-38,  5.0556e-33,  0.0000e+00,\n",
      "         4.4487e-41,  7.0065e-45,  1.2612e-44,  7.0065e-45,  3.2230e-44,\n",
      "         1.5947e-42,  0.0000e+00,  1.7622e+13,  3.3058e-41,  7.5670e-44,\n",
      "         3.3058e-41,  1.7622e+13,  3.3058e-41,  1.5919e-42,  0.0000e+00,\n",
      "         1.7622e+13,  3.3058e-41,  7.5670e-44,  3.3058e-41,  1.7623e+13,\n",
      "         3.3058e-41,  1.5653e-42,  0.0000e+00,  1.7622e+13,  3.3058e-41,\n",
      "         7.5670e-44,  3.3058e-41,  1.7623e+13,  3.3058e-41,  1.5638e-42,\n",
      "         0.0000e+00,  1.7622e+13,  3.3058e-41,  7.5670e-44,  3.3058e-41,\n",
      "         1.7623e+13,  3.3058e-41,  1.5624e-42,  0.0000e+00,  1.7622e+13,\n",
      "         3.3058e-41,  7.5670e-44,  3.3058e-41,  1.7623e+13,  3.3058e-41,\n",
      "         1.5456e-42,  0.0000e+00,  1.7622e+13,  3.3058e-41,  7.5670e-44,\n",
      "         3.3058e-41,  1.7623e+13,  3.3058e-41,  1.5358e-42,  0.0000e+00,\n",
      "         1.7622e+13,  3.3058e-41,  7.5670e-44,  3.3058e-41,  1.7623e+13,\n",
      "         3.3058e-41,  5.6052e-45,  0.0000e+00,  1.7622e+13,  3.3058e-41,\n",
      "         1.7623e+13,  3.3058e-41,  1.5638e-42,  4.4487e-41,  0.0000e+00,\n",
      "         0.0000e+00,  6.7262e-44,  4.4487e-41,  1.7623e+13,  3.3058e-41,\n",
      "         7.0065e-45,  2.8026e-45,  7.0065e-45,  3.2230e-44,  1.4153e-42,\n",
      "         4.4487e-41,  1.7623e+13,  3.3058e-41,  7.5670e-44,  4.4487e-41,\n",
      "         1.7622e+13,  3.3058e-41,  1.4013e-45,  0.0000e+00,  1.7623e+13,\n",
      "         3.3058e-41,  1.7623e+13,  3.3058e-41,  1.6479e-42,  0.0000e+00,\n",
      "         0.0000e+00,  0.0000e+00,  7.7071e-44,  3.3058e-41,  0.0000e+00,\n",
      "         0.0000e+00,  1.6381e-42,  0.0000e+00,  0.0000e+00,  0.0000e+00,\n",
      "         7.7071e-44,  3.3058e-41,  1.7623e+13,  3.3058e-41,  1.6367e-42,\n",
      "         3.3058e-41,  0.0000e+00,  0.0000e+00,  7.7071e-44,  3.3058e-41,\n",
      "         1.7623e+13,  3.3058e-41,  1.5835e-42,  3.3058e-41,  0.0000e+00,\n",
      "         0.0000e+00,  7.7071e-44,  3.3058e-41,  1.7623e+13,  3.3058e-41,\n",
      "         1.5849e-42,  3.3058e-41,  0.0000e+00,  0.0000e+00,  7.7071e-44,\n",
      "         3.3058e-41,  1.7624e+13,  3.3058e-41,  1.5863e-42,  3.3058e-41,\n",
      "         0.0000e+00,  0.0000e+00,  7.7071e-44,  0.0000e+00,  1.7624e+13,\n",
      "         3.3058e-41,  1.5877e-42,  4.4487e-41,  0.0000e+00,  0.0000e+00,\n",
      "         7.7071e-44,  3.3058e-41,  1.7624e+13,  3.3058e-41,  1.5891e-42,\n",
      "         3.3058e-41,  0.0000e+00,  0.0000e+00,  7.7071e-44,  1.4013e-45,\n",
      "         1.7624e+13,  3.3058e-41,  1.5905e-42,  0.0000e+00,  0.0000e+00,\n",
      "         0.0000e+00,  7.7071e-44,  3.3058e-41,  1.7624e+13,  3.3058e-41,\n",
      "         1.5961e-42,  0.0000e+00,  0.0000e+00,  0.0000e+00,  7.7071e-44,\n",
      "         0.0000e+00,  1.7624e+13,  3.3058e-41,  1.5947e-42,  0.0000e+00,\n",
      "         0.0000e+00,  0.0000e+00,  7.7071e-44,  3.3058e-41,  1.7624e+13,\n",
      "         3.3058e-41,  1.5919e-42,  0.0000e+00,  0.0000e+00,  0.0000e+00,\n",
      "         7.7071e-44,  3.3058e-41])\n",
      "tensor([-0.3640, -0.0088,  0.2271,  ...,  0.0561,  0.4594, -0.0015])\n"
     ]
    }
   ],
   "source": [
    "import torch\n",
    "import numpy as np\n",
    "from torch import nn\n",
    "\n",
    "path = './dataset/amazon/processed/Clothing/text_features/0123456479.pth'\n",
    "init = nn.init.xavier_uniform_\n",
    "uniform_init = nn.init.uniform\n",
    "model = torch.load(path)\n",
    "# print(model)\n",
    "# print(model.size())\n",
    "# print(a)\n",
    "a = torch.empty(512)\n",
    "print(a)\n",
    "print(torch.cat((model, model), 0))"
   ]
  },
  {
   "cell_type": "code",
   "execution_count": 9,
   "id": "fc11dd60",
   "metadata": {
    "execution": {
     "iopub.execute_input": "2023-08-03T14:21:17.518009Z",
     "iopub.status.busy": "2023-08-03T14:21:17.517295Z",
     "iopub.status.idle": "2023-08-03T14:21:32.091330Z",
     "shell.execute_reply": "2023-08-03T14:21:32.089085Z"
    },
    "papermill": {
     "duration": 14.626388,
     "end_time": "2023-08-03T14:21:32.094466",
     "exception": false,
     "start_time": "2023-08-03T14:21:17.468078",
     "status": "completed"
    },
    "tags": []
   },
   "outputs": [
    {
     "name": "stdout",
     "output_type": "stream",
     "text": [
      "Requirement already satisfied: jsonlines in /opt/conda/lib/python3.10/site-packages (3.1.0)\r\n",
      "Requirement already satisfied: attrs>=19.2.0 in /opt/conda/lib/python3.10/site-packages (from jsonlines) (23.1.0)\r\n",
      "\u001b[33mWARNING: Running pip as the 'root' user can result in broken permissions and conflicting behaviour with the system package manager. It is recommended to use a virtual environment instead: https://pip.pypa.io/warnings/venv\u001b[0m\u001b[33m\r\n",
      "\u001b[0m"
     ]
    }
   ],
   "source": [
    "!pip install jsonlines"
   ]
  },
  {
   "cell_type": "markdown",
   "id": "f70fa298",
   "metadata": {
    "papermill": {
     "duration": 0.047366,
     "end_time": "2023-08-03T14:21:32.191268",
     "exception": false,
     "start_time": "2023-08-03T14:21:32.143902",
     "status": "completed"
    },
    "tags": []
   },
   "source": [
    "# **pre-processed for graph**"
   ]
  },
  {
   "cell_type": "code",
   "execution_count": 10,
   "id": "1b80ada4",
   "metadata": {
    "execution": {
     "iopub.execute_input": "2023-08-03T14:21:32.290821Z",
     "iopub.status.busy": "2023-08-03T14:21:32.290267Z",
     "iopub.status.idle": "2023-08-03T14:21:40.052226Z",
     "shell.execute_reply": "2023-08-03T14:21:40.050823Z"
    },
    "papermill": {
     "duration": 7.813805,
     "end_time": "2023-08-03T14:21:40.055117",
     "exception": false,
     "start_time": "2023-08-03T14:21:32.241312",
     "status": "completed"
    },
    "tags": []
   },
   "outputs": [
    {
     "name": "stdout",
     "output_type": "stream",
     "text": [
      "torch.Size([23033, 512])\n",
      "39387\n"
     ]
    }
   ],
   "source": [
    "from collections import defaultdict\n",
    "import random\n",
    "import numpy as np\n",
    "import pandas as pd\n",
    "import jsonlines\n",
    "import pickle\n",
    "import gzip\n",
    "import tqdm\n",
    "import torch\n",
    "\n",
    "def id_map(items): # items dict\n",
    "\n",
    "    item2id = {} # raw 2 iid\n",
    "    id2item = {} # iid 2 raw\n",
    "    item_id = 0\n",
    "    iids = [] # item id lists\n",
    "    for line in items:\n",
    "        for item in line:\n",
    "            if item not in item2id:\n",
    "                item2id[item] = str(item_id)\n",
    "                id2item[str(item_id)] = item\n",
    "                item_id += 1\n",
    "            iids.append(item2id[item])\n",
    "    data_maps = {\n",
    "        'item2id': item2id,\n",
    "        'id2item': id2item\n",
    "    }\n",
    "    return iids, item_id-1, data_maps\n",
    "\n",
    "def load_seq(filename):\n",
    "    seq = []\n",
    "    with jsonlines.open(filename, 'r') as fs:\n",
    "        for line in fs.iter():\n",
    "            seq.append(line)\n",
    "    return seq\n",
    "\n",
    "def load_feature(item):\n",
    "    path = './dataset/amazon/processed/Clothing/text_features/' + item + '.pth'\n",
    "    feature = torch.load(path)\n",
    "    return feature\n",
    "\n",
    "def concat_id_feature(data_name, data_type = 'amazon'):\n",
    "    path = './dataset/' + data_type + '/processed/' + data_name\n",
    "    seq_path = path + '/test_seq.jsonl'\n",
    "    tst_path = path + '/eval_seq.jsonl'\n",
    "    text_features_path = path + '/text_features'\n",
    "    \n",
    "    seq = load_seq(seq_path)\n",
    "    tst = load_seq(tst_path)\n",
    "#     seq = seq + tst\n",
    "    id_seq, item_num, data_maps = id_map(seq)\n",
    "    \n",
    "    item_features = []\n",
    "    item_seq = []\n",
    "    item_tst = []\n",
    "    ids = data_maps['item2id']\n",
    "    \n",
    "    for u_seq in seq:\n",
    "#         list = []\n",
    "        id_list = []\n",
    "        for i in u_seq:\n",
    "            id = int(ids[i])\n",
    "#             i = load_feature(i)\n",
    "#             feature = max_feature(i)\n",
    "#             list.append(int(id + feature))\n",
    "#             item_features.append(i)\n",
    "#             feature = torch.stack((feature, i), 0) \n",
    "            id_list.append(id)\n",
    "            \n",
    "#         item_features.append(list)\n",
    "        item_seq.append(id_list)\n",
    "    \n",
    "    for i in ids:\n",
    "        i = load_feature(i)\n",
    "        item_features.append(i)\n",
    "    \n",
    "    for u_tst in tst:\n",
    "        id_tst = []\n",
    "        for i in u_tst:\n",
    "            id_tst.append(int(ids[i]))\n",
    "        item_tst.append(id_tst)\n",
    "            \n",
    "    feature = torch.stack(item_features, dim=0)\n",
    "    return feature, item_seq, item_tst\n",
    "\n",
    "def save_file(data_file, data):\n",
    "    pickle.dump(data, open(data_file, 'wb'))\n",
    "        \n",
    "feature, ids, tst = concat_id_feature('Clothing')\n",
    "print(feature.size())\n",
    "print(len(ids))\n",
    "out_file_f = './dataset/amazon/processed/Clothing/feature_train'\n",
    "out_file_ids = './dataset/amazon/processed/Clothing/seq'\n",
    "out_file_tst = './dataset/amazon/processed/Clothing/tst'\n",
    "save_file(out_file_f, feature)\n",
    "save_file(out_file_ids, ids)\n",
    "save_file(out_file_tst, tst)\n"
   ]
  },
  {
   "cell_type": "code",
   "execution_count": 11,
   "id": "9cdfa7d5",
   "metadata": {
    "execution": {
     "iopub.execute_input": "2023-08-03T14:21:40.151047Z",
     "iopub.status.busy": "2023-08-03T14:21:40.150332Z",
     "iopub.status.idle": "2023-08-03T14:21:40.205788Z",
     "shell.execute_reply": "2023-08-03T14:21:40.204293Z"
    },
    "papermill": {
     "duration": 0.10694,
     "end_time": "2023-08-03T14:21:40.208821",
     "exception": false,
     "start_time": "2023-08-03T14:21:40.101881",
     "status": "completed"
    },
    "tags": []
   },
   "outputs": [
    {
     "name": "stdout",
     "output_type": "stream",
     "text": [
      "136\n",
      "[11, 12, 13, 14, 15]\n"
     ]
    }
   ],
   "source": [
    "import pickle\n",
    "from torch import nn\n",
    "\n",
    "def feature(path):\n",
    "    with open(path, 'rb') as out:\n",
    "        feature = pickle.load(out)\n",
    "    return feature\n",
    "\n",
    "f = feature('./dataset/amazon/processed/Clothing/seq')\n",
    "# print(len(f))\n",
    "max_len = 0\n",
    "for line in f:\n",
    "    if len(line) > max_len:\n",
    "        max_len = len(line)\n",
    "print(max_len)\n",
    "print(f[1])"
   ]
  },
  {
   "cell_type": "markdown",
   "id": "08aa4893",
   "metadata": {
    "papermill": {
     "duration": 0.044969,
     "end_time": "2023-08-03T14:21:40.301279",
     "exception": false,
     "start_time": "2023-08-03T14:21:40.256310",
     "status": "completed"
    },
    "tags": []
   },
   "source": [
    "# **finetune Toys**"
   ]
  },
  {
   "cell_type": "code",
   "execution_count": 12,
   "id": "5aa7bfce",
   "metadata": {
    "execution": {
     "iopub.execute_input": "2023-08-03T14:21:40.402945Z",
     "iopub.status.busy": "2023-08-03T14:21:40.402533Z",
     "iopub.status.idle": "2023-08-03T14:22:02.175022Z",
     "shell.execute_reply": "2023-08-03T14:22:02.172946Z"
    },
    "papermill": {
     "duration": 21.828213,
     "end_time": "2023-08-03T14:22:02.179129",
     "exception": false,
     "start_time": "2023-08-03T14:21:40.350916",
     "status": "completed"
    },
    "tags": []
   },
   "outputs": [
    {
     "name": "stdout",
     "output_type": "stream",
     "text": [
      "Cloning into 'MMSRec'...\r\n",
      "remote: Enumerating objects: 47752, done.\u001b[K\r\n",
      "remote: Counting objects: 100% (11/11), done.\u001b[K\r\n",
      "remote: Compressing objects: 100% (9/9), done.\u001b[K\r\n",
      "remote: Total 47752 (delta 2), reused 9 (delta 1), pack-reused 47741\u001b[K\r\n",
      "Receiving objects: 100% (47752/47752), 232.25 MiB | 16.19 MiB/s, done.\r\n",
      "Resolving deltas: 100% (34/34), done.\r\n",
      "Updating files: 100% (47725/47725), done.\r\n"
     ]
    }
   ],
   "source": [
    "from kaggle_secrets import UserSecretsClient\n",
    "user_secrets = UserSecretsClient()\n",
    "secret_value_0 = user_secrets.get_secret(\"secret_tokens\")\n",
    "\n",
    "# folder_path = '/kaggle/working/MMSRec-main'\n",
    "# remove_folder_contents(folder_path)\n",
    "# os.rmdir(folder_path)\n",
    "\n",
    "!git clone https://seecret_value_0@github.com/mairyy/MMSRec.git"
   ]
  },
  {
   "cell_type": "code",
   "execution_count": 13,
   "id": "08fdc1d5",
   "metadata": {
    "execution": {
     "iopub.execute_input": "2023-08-03T14:22:02.300865Z",
     "iopub.status.busy": "2023-08-03T14:22:02.300331Z",
     "iopub.status.idle": "2023-08-03T14:22:02.309629Z",
     "shell.execute_reply": "2023-08-03T14:22:02.307903Z"
    },
    "papermill": {
     "duration": 0.073014,
     "end_time": "2023-08-03T14:22:02.312602",
     "exception": false,
     "start_time": "2023-08-03T14:22:02.239588",
     "status": "completed"
    },
    "tags": []
   },
   "outputs": [
    {
     "name": "stdout",
     "output_type": "stream",
     "text": [
      "[Errno 2] No such file or directory: '/kaggle/working/MMSRec'\n",
      "/kaggle/working/MMSRec-main\n"
     ]
    }
   ],
   "source": [
    "%cd '/kaggle/working/MMSRec'"
   ]
  },
  {
   "cell_type": "code",
   "execution_count": 14,
   "id": "af93ceaa",
   "metadata": {
    "execution": {
     "iopub.execute_input": "2023-08-03T14:22:02.436343Z",
     "iopub.status.busy": "2023-08-03T14:22:02.435866Z",
     "iopub.status.idle": "2023-08-03T14:22:51.268107Z",
     "shell.execute_reply": "2023-08-03T14:22:51.266055Z"
    },
    "papermill": {
     "duration": 48.899555,
     "end_time": "2023-08-03T14:22:51.272096",
     "exception": false,
     "start_time": "2023-08-03T14:22:02.372541",
     "status": "completed"
    },
    "tags": []
   },
   "outputs": [
    {
     "name": "stdout",
     "output_type": "stream",
     "text": [
      "Collecting git+https://github.com/openai/CLIP.git\r\n",
      "  Cloning https://github.com/openai/CLIP.git to /tmp/pip-req-build-5z_q5hbe\r\n",
      "  Running command git clone --filter=blob:none --quiet https://github.com/openai/CLIP.git /tmp/pip-req-build-5z_q5hbe\r\n",
      "  Resolved https://github.com/openai/CLIP.git to commit a1d071733d7111c9c014f024669f959182114e33\r\n",
      "  Preparing metadata (setup.py) ... \u001b[?25l-\b \b\\\b \bdone\r\n",
      "\u001b[?25hRequirement already satisfied: ftfy in /opt/conda/lib/python3.10/site-packages (from clip==1.0) (6.1.1)\r\n",
      "Requirement already satisfied: regex in /opt/conda/lib/python3.10/site-packages (from clip==1.0) (2023.5.5)\r\n",
      "Requirement already satisfied: tqdm in /opt/conda/lib/python3.10/site-packages (from clip==1.0) (4.64.1)\r\n",
      "Requirement already satisfied: torch in /opt/conda/lib/python3.10/site-packages (from clip==1.0) (2.0.0+cpu)\r\n",
      "Requirement already satisfied: torchvision in /opt/conda/lib/python3.10/site-packages (from clip==1.0) (0.15.1+cpu)\r\n",
      "Requirement already satisfied: wcwidth>=0.2.5 in /opt/conda/lib/python3.10/site-packages (from ftfy->clip==1.0) (0.2.6)\r\n",
      "Requirement already satisfied: filelock in /opt/conda/lib/python3.10/site-packages (from torch->clip==1.0) (3.12.0)\r\n",
      "Requirement already satisfied: typing-extensions in /opt/conda/lib/python3.10/site-packages (from torch->clip==1.0) (4.5.0)\r\n",
      "Requirement already satisfied: sympy in /opt/conda/lib/python3.10/site-packages (from torch->clip==1.0) (1.12)\r\n",
      "Requirement already satisfied: networkx in /opt/conda/lib/python3.10/site-packages (from torch->clip==1.0) (3.1)\r\n",
      "Requirement already satisfied: jinja2 in /opt/conda/lib/python3.10/site-packages (from torch->clip==1.0) (3.1.2)\r\n",
      "Requirement already satisfied: numpy in /opt/conda/lib/python3.10/site-packages (from torchvision->clip==1.0) (1.23.5)\r\n",
      "Requirement already satisfied: requests in /opt/conda/lib/python3.10/site-packages (from torchvision->clip==1.0) (2.28.2)\r\n",
      "Requirement already satisfied: pillow!=8.3.*,>=5.3.0 in /opt/conda/lib/python3.10/site-packages (from torchvision->clip==1.0) (9.5.0)\r\n",
      "Requirement already satisfied: MarkupSafe>=2.0 in /opt/conda/lib/python3.10/site-packages (from jinja2->torch->clip==1.0) (2.1.2)\r\n",
      "Requirement already satisfied: charset-normalizer<4,>=2 in /opt/conda/lib/python3.10/site-packages (from requests->torchvision->clip==1.0) (2.1.1)\r\n",
      "Requirement already satisfied: idna<4,>=2.5 in /opt/conda/lib/python3.10/site-packages (from requests->torchvision->clip==1.0) (3.4)\r\n",
      "Requirement already satisfied: urllib3<1.27,>=1.21.1 in /opt/conda/lib/python3.10/site-packages (from requests->torchvision->clip==1.0) (1.26.15)\r\n",
      "Requirement already satisfied: certifi>=2017.4.17 in /opt/conda/lib/python3.10/site-packages (from requests->torchvision->clip==1.0) (2023.5.7)\r\n",
      "Requirement already satisfied: mpmath>=0.19 in /opt/conda/lib/python3.10/site-packages (from sympy->torch->clip==1.0) (1.3.0)\r\n",
      "\u001b[33mWARNING: Running pip as the 'root' user can result in broken permissions and conflicting behaviour with the system package manager. It is recommended to use a virtual environment instead: https://pip.pypa.io/warnings/venv\u001b[0m\u001b[33m\r\n",
      "\u001b[0m--2023-08-03 14:22:19--  https://openaipublic.azureedge.net/clip/models/40d365715913c9da98579312b702a82c18be219cc2a73407c4526f58eba950af/ViT-B-32.pt\r\n",
      "Resolving openaipublic.azureedge.net (openaipublic.azureedge.net)... 13.107.246.67, 13.107.213.67, 2620:1ec:bdf::67, ...\r\n",
      "Connecting to openaipublic.azureedge.net (openaipublic.azureedge.net)|13.107.246.67|:443... connected.\r\n",
      "HTTP request sent, awaiting response... 200 OK\r\n",
      "Length: 353976522 (338M) [application/octet-stream]\r\n",
      "Saving to: ‘./weights/clip/ViT-B-32.pt.1’\r\n",
      "\r\n",
      "ViT-B-32.pt.1       100%[===================>] 337.58M  28.9MB/s    in 15s     \r\n",
      "\r\n",
      "2023-08-03 14:22:34 (23.2 MB/s) - ‘./weights/clip/ViT-B-32.pt.1’ saved [353976522/353976522]\r\n",
      "\r\n",
      "[Errno 2] No such file or directory: '/kaggle/working/MMSRec'\n",
      "/kaggle/working/MMSRec-main\n",
      "Requirement already satisfied: wandb in /opt/conda/lib/python3.10/site-packages (0.15.4)\r\n",
      "Requirement already satisfied: easydict in /opt/conda/lib/python3.10/site-packages (1.10)\r\n",
      "Requirement already satisfied: pynvml in /opt/conda/lib/python3.10/site-packages (11.5.0)\r\n",
      "Requirement already satisfied: torchaudio in /opt/conda/lib/python3.10/site-packages (2.0.1+cpu)\r\n",
      "Requirement already satisfied: decord in /opt/conda/lib/python3.10/site-packages (0.6.0)\r\n",
      "Requirement already satisfied: jsonlines in /opt/conda/lib/python3.10/site-packages (3.1.0)\r\n",
      "Requirement already satisfied: transformers in /opt/conda/lib/python3.10/site-packages (4.30.1)\r\n",
      "Requirement already satisfied: torchvision in /opt/conda/lib/python3.10/site-packages (0.15.1+cpu)\r\n",
      "Requirement already satisfied: Click!=8.0.0,>=7.0 in /opt/conda/lib/python3.10/site-packages (from wandb) (8.1.3)\r\n",
      "Requirement already satisfied: GitPython!=3.1.29,>=1.0.0 in /opt/conda/lib/python3.10/site-packages (from wandb) (3.1.31)\r\n",
      "Requirement already satisfied: requests<3,>=2.0.0 in /opt/conda/lib/python3.10/site-packages (from wandb) (2.28.2)\r\n",
      "Requirement already satisfied: psutil>=5.0.0 in /opt/conda/lib/python3.10/site-packages (from wandb) (5.9.3)\r\n",
      "Requirement already satisfied: sentry-sdk>=1.0.0 in /opt/conda/lib/python3.10/site-packages (from wandb) (1.25.1)\r\n",
      "Requirement already satisfied: docker-pycreds>=0.4.0 in /opt/conda/lib/python3.10/site-packages (from wandb) (0.4.0)\r\n",
      "Requirement already satisfied: PyYAML in /opt/conda/lib/python3.10/site-packages (from wandb) (5.4.1)\r\n",
      "Requirement already satisfied: pathtools in /opt/conda/lib/python3.10/site-packages (from wandb) (0.1.2)\r\n",
      "Requirement already satisfied: setproctitle in /opt/conda/lib/python3.10/site-packages (from wandb) (1.3.2)\r\n",
      "Requirement already satisfied: setuptools in /opt/conda/lib/python3.10/site-packages (from wandb) (59.8.0)\r\n",
      "Requirement already satisfied: appdirs>=1.4.3 in /opt/conda/lib/python3.10/site-packages (from wandb) (1.4.4)\r\n",
      "Requirement already satisfied: protobuf!=4.21.0,<5,>=3.19.0 in /opt/conda/lib/python3.10/site-packages (from wandb) (3.20.3)\r\n",
      "Requirement already satisfied: torch==2.0.0 in /opt/conda/lib/python3.10/site-packages (from torchaudio) (2.0.0+cpu)\r\n",
      "Requirement already satisfied: filelock in /opt/conda/lib/python3.10/site-packages (from torch==2.0.0->torchaudio) (3.12.0)\r\n",
      "Requirement already satisfied: typing-extensions in /opt/conda/lib/python3.10/site-packages (from torch==2.0.0->torchaudio) (4.5.0)\r\n",
      "Requirement already satisfied: sympy in /opt/conda/lib/python3.10/site-packages (from torch==2.0.0->torchaudio) (1.12)\r\n",
      "Requirement already satisfied: networkx in /opt/conda/lib/python3.10/site-packages (from torch==2.0.0->torchaudio) (3.1)\r\n",
      "Requirement already satisfied: jinja2 in /opt/conda/lib/python3.10/site-packages (from torch==2.0.0->torchaudio) (3.1.2)\r\n",
      "Requirement already satisfied: numpy>=1.14.0 in /opt/conda/lib/python3.10/site-packages (from decord) (1.23.5)\r\n",
      "Requirement already satisfied: attrs>=19.2.0 in /opt/conda/lib/python3.10/site-packages (from jsonlines) (23.1.0)\r\n",
      "Requirement already satisfied: huggingface-hub<1.0,>=0.14.1 in /opt/conda/lib/python3.10/site-packages (from transformers) (0.15.1)\r\n",
      "Requirement already satisfied: packaging>=20.0 in /opt/conda/lib/python3.10/site-packages (from transformers) (21.3)\r\n",
      "Requirement already satisfied: regex!=2019.12.17 in /opt/conda/lib/python3.10/site-packages (from transformers) (2023.5.5)\r\n",
      "Requirement already satisfied: tokenizers!=0.11.3,<0.14,>=0.11.1 in /opt/conda/lib/python3.10/site-packages (from transformers) (0.13.3)\r\n",
      "Requirement already satisfied: safetensors>=0.3.1 in /opt/conda/lib/python3.10/site-packages (from transformers) (0.3.1)\r\n",
      "Requirement already satisfied: tqdm>=4.27 in /opt/conda/lib/python3.10/site-packages (from transformers) (4.64.1)\r\n",
      "Requirement already satisfied: pillow!=8.3.*,>=5.3.0 in /opt/conda/lib/python3.10/site-packages (from torchvision) (9.5.0)\r\n",
      "Requirement already satisfied: six>=1.4.0 in /opt/conda/lib/python3.10/site-packages (from docker-pycreds>=0.4.0->wandb) (1.16.0)\r\n",
      "Requirement already satisfied: gitdb<5,>=4.0.1 in /opt/conda/lib/python3.10/site-packages (from GitPython!=3.1.29,>=1.0.0->wandb) (4.0.10)\r\n",
      "Requirement already satisfied: fsspec in /opt/conda/lib/python3.10/site-packages (from huggingface-hub<1.0,>=0.14.1->transformers) (2023.6.0)\r\n",
      "Requirement already satisfied: pyparsing!=3.0.5,>=2.0.2 in /opt/conda/lib/python3.10/site-packages (from packaging>=20.0->transformers) (3.0.9)\r\n",
      "Requirement already satisfied: charset-normalizer<4,>=2 in /opt/conda/lib/python3.10/site-packages (from requests<3,>=2.0.0->wandb) (2.1.1)\r\n",
      "Requirement already satisfied: idna<4,>=2.5 in /opt/conda/lib/python3.10/site-packages (from requests<3,>=2.0.0->wandb) (3.4)\r\n",
      "Requirement already satisfied: urllib3<1.27,>=1.21.1 in /opt/conda/lib/python3.10/site-packages (from requests<3,>=2.0.0->wandb) (1.26.15)\r\n",
      "Requirement already satisfied: certifi>=2017.4.17 in /opt/conda/lib/python3.10/site-packages (from requests<3,>=2.0.0->wandb) (2023.5.7)\r\n",
      "Requirement already satisfied: smmap<6,>=3.0.1 in /opt/conda/lib/python3.10/site-packages (from gitdb<5,>=4.0.1->GitPython!=3.1.29,>=1.0.0->wandb) (5.0.0)\r\n",
      "Requirement already satisfied: MarkupSafe>=2.0 in /opt/conda/lib/python3.10/site-packages (from jinja2->torch==2.0.0->torchaudio) (2.1.2)\r\n",
      "Requirement already satisfied: mpmath>=0.19 in /opt/conda/lib/python3.10/site-packages (from sympy->torch==2.0.0->torchaudio) (1.3.0)\r\n",
      "\u001b[33mWARNING: Running pip as the 'root' user can result in broken permissions and conflicting behaviour with the system package manager. It is recommended to use a virtual environment instead: https://pip.pypa.io/warnings/venv\u001b[0m\u001b[33m\r\n",
      "\u001b[0m"
     ]
    }
   ],
   "source": [
    "!sh weights/clip/download.sh\n",
    "%cd '/kaggle/working/MMSRec'\n",
    "!pip install wandb easydict pynvml torchaudio decord jsonlines transformers torchvision"
   ]
  },
  {
   "cell_type": "code",
   "execution_count": 15,
   "id": "c59c92cb",
   "metadata": {
    "execution": {
     "iopub.execute_input": "2023-08-03T14:22:51.444425Z",
     "iopub.status.busy": "2023-08-03T14:22:51.443813Z",
     "iopub.status.idle": "2023-08-03T14:23:47.138615Z",
     "shell.execute_reply": "2023-08-03T14:23:47.137064Z"
    },
    "papermill": {
     "duration": 55.781527,
     "end_time": "2023-08-03T14:23:47.142045",
     "exception": false,
     "start_time": "2023-08-03T14:22:51.360518",
     "status": "completed"
    },
    "tags": []
   },
   "outputs": [
    {
     "name": "stdout",
     "output_type": "stream",
     "text": [
      "08/03/2023 14:23:31 - INFO - __main__ - {'config': '/kaggle/input/finetunetoys/finetune_amazon.yaml', 'wandb_enable': False, 'project_name': '', 'display_name': '', 'num_worker': 8, 'train_item_file': './dataset/amazon/processed/Toys/item_feature.jsonl', 'train_seq_file': './dataset/amazon/processed/Toys/train_seq.jsonl', 'eval_item_file': './dataset/amazon/processed/Toys/item_feature.jsonl', 'eval_seq_file': './dataset/amazon/processed/Toys/eval_seq.jsonl', 'test_item_file': './dataset/amazon/processed/Toys/item_feature.jsonl', 'test_seq_file': './dataset/amazon/processed/Toys/test_seq.jsonl', 'max_seq_length': 20, 'train_vision_format': 'embed', 'eval_vision_format': 'embed', 'test_vision_format': 'embed', 'max_vision_frames': 10, 'train_text_format': 'embed', 'eval_text_format': 'embed', 'test_text_format': 'embed', 'clip_model_path': './weights/clip/ViT-B-32.pt', 'vision_feature_embed_dim': 512, 'text_feature_embed_dim': 512, 'fusion_embed_dim': 512, 'fusion_layers': 2, 'fusion_heads': 8, 'fusion_feedforward_dim': 1024, 'fusion_dropout': 0.5, 'fusion_embed_dropout': 0.2, 'initializer_range': 0.02, 'seed': 42, 'log_file': './logs/finetune-amazon-2layer.log', 'train_batch_size': 256, 'eval_batch_size': 256, 'test_batch_size': 256, 'num_train_epochs': 500, 'learning_rate': 0.001, 'lr_scheduler_gamma': 1.0, 'max_grad_norm': 1.0, 'contrastive_temperature': 0.05, 'ce_mask_ratio': 0.2, 'early_stopping': 10, 'model_save_path': './weights/finetune-Toys-8192batch', 'model_resume_path': './weights/pretrain-webvid-2layer-512dim', 'rank': 0, 'local_rank': 0, 'world_size': 1, 'device': 'cpu'}\r\n",
      "Dataset train items : 11924\r\n",
      "Dataset train sequence : 109361\r\n",
      "/opt/conda/lib/python3.10/site-packages/torch/utils/data/dataloader.py:561: UserWarning: This DataLoader will create 8 worker processes in total. Our suggested max number of worker in current system is 4, which is smaller than what this DataLoader is going to create. Please be aware that excessive worker creation might get DataLoader running slow or even freeze, lower the worker number to avoid potential slowness/freeze if necessary.\r\n",
      "  warnings.warn(_create_warning_msg(\r\n",
      "Dataset eval items : 11924\r\n",
      "Dataset eval sequence : 19412\r\n",
      "Dataset test items : 11924\r\n",
      "Dataset test sequence : 19412\r\n",
      "Traceback (most recent call last):\r\n",
      "  File \"/kaggle/working/MMSRec-main/finetune_amazon.py\", line 125, in <module>\r\n",
      "    main()\r\n",
      "  File \"/kaggle/working/MMSRec-main/finetune_amazon.py\", line 118, in main\r\n",
      "    run(args)\r\n",
      "  File \"/kaggle/working/MMSRec-main/finetune_amazon.py\", line 73, in run\r\n",
      "    fusion_model = DDP(fusion_model, device_ids=[args.local_rank], output_device=args.local_rank)\r\n",
      "  File \"/opt/conda/lib/python3.10/site-packages/torch/nn/parallel/distributed.py\", line 603, in __init__\r\n",
      "    self._log_and_throw(\r\n",
      "  File \"/opt/conda/lib/python3.10/site-packages/torch/nn/parallel/distributed.py\", line 769, in _log_and_throw\r\n",
      "    raise err_type(err_msg)\r\n",
      "ValueError: DistributedDataParallel device_ids and output_device arguments only work with single-device/multiple-device GPU modules or CPU modules, but got device_ids [0], output_device 0, and module parameters {device(type='cpu')}.\r\n",
      "Traceback (most recent call last):\r\n",
      "  File \"/opt/conda/bin/torchrun\", line 8, in <module>\r\n",
      "    sys.exit(main())\r\n",
      "  File \"/opt/conda/lib/python3.10/site-packages/torch/distributed/elastic/multiprocessing/errors/__init__.py\", line 346, in wrapper\r\n",
      "    return f(*args, **kwargs)\r\n",
      "  File \"/opt/conda/lib/python3.10/site-packages/torch/distributed/run.py\", line 794, in main\r\n",
      "    run(args)\r\n",
      "  File \"/opt/conda/lib/python3.10/site-packages/torch/distributed/run.py\", line 785, in run\r\n",
      "    elastic_launch(\r\n",
      "  File \"/opt/conda/lib/python3.10/site-packages/torch/distributed/launcher/api.py\", line 134, in __call__\r\n",
      "    return launch_agent(self._config, self._entrypoint, list(args))\r\n",
      "  File \"/opt/conda/lib/python3.10/site-packages/torch/distributed/launcher/api.py\", line 250, in launch_agent\r\n",
      "    raise ChildFailedError(\r\n",
      "torch.distributed.elastic.multiprocessing.errors.ChildFailedError: \r\n",
      "============================================================\r\n",
      "finetune_amazon.py FAILED\r\n",
      "------------------------------------------------------------\r\n",
      "Failures:\r\n",
      "  <NO_OTHER_FAILURES>\r\n",
      "------------------------------------------------------------\r\n",
      "Root Cause (first observed failure):\r\n",
      "[0]:\r\n",
      "  time      : 2023-08-03_14:23:46\r\n",
      "  host      : 217cf00f2fc1\r\n",
      "  rank      : 0 (local_rank: 0)\r\n",
      "  exitcode  : 1 (pid: 186)\r\n",
      "  error_file: <N/A>\r\n",
      "  traceback : To enable traceback see: https://pytorch.org/docs/stable/elastic/errors.html\r\n",
      "============================================================\r\n"
     ]
    }
   ],
   "source": [
    "!torchrun --nnodes=1:5 --nproc_per_node=1 --max_restarts=0 --rdzv_id=1 --rdzv_backend=c10d --rdzv_endpoint=\"127.0.0.1:12309\" finetune_amazon.py --config=\"/kaggle/input/finetunetoys/finetune_amazon.yaml\""
   ]
  },
  {
   "cell_type": "code",
   "execution_count": 16,
   "id": "3b94f49e",
   "metadata": {
    "execution": {
     "iopub.execute_input": "2023-08-03T14:23:47.287883Z",
     "iopub.status.busy": "2023-08-03T14:23:47.287345Z",
     "iopub.status.idle": "2023-08-03T14:24:37.638395Z",
     "shell.execute_reply": "2023-08-03T14:24:37.636019Z"
    },
    "papermill": {
     "duration": 50.427037,
     "end_time": "2023-08-03T14:24:37.642302",
     "exception": false,
     "start_time": "2023-08-03T14:23:47.215265",
     "status": "completed"
    },
    "tags": []
   },
   "outputs": [
    {
     "name": "stdout",
     "output_type": "stream",
     "text": [
      "08/03/2023 14:24:26 - INFO - __main__ - {'config': '/kaggle/input/finetunetoys/finetune_amazon.yaml', 'wandb_enable': False, 'project_name': '', 'display_name': '', 'num_worker': 8, 'train_item_file': './dataset/amazon/processed/Toys/item_feature.jsonl', 'train_seq_file': './dataset/amazon/processed/Toys/train_seq.jsonl', 'eval_item_file': './dataset/amazon/processed/Toys/item_feature.jsonl', 'eval_seq_file': './dataset/amazon/processed/Toys/eval_seq.jsonl', 'test_item_file': './dataset/amazon/processed/Toys/item_feature.jsonl', 'test_seq_file': './dataset/amazon/processed/Toys/test_seq.jsonl', 'max_seq_length': 20, 'train_vision_format': 'embed', 'eval_vision_format': 'embed', 'test_vision_format': 'embed', 'max_vision_frames': 10, 'train_text_format': 'embed', 'eval_text_format': 'embed', 'test_text_format': 'embed', 'clip_model_path': './weights/clip/ViT-B-32.pt', 'vision_feature_embed_dim': 512, 'text_feature_embed_dim': 512, 'fusion_embed_dim': 512, 'fusion_layers': 2, 'fusion_heads': 8, 'fusion_feedforward_dim': 1024, 'fusion_dropout': 0.5, 'fusion_embed_dropout': 0.2, 'initializer_range': 0.02, 'seed': 42, 'log_file': './logs/finetune-amazon-2layer.log', 'train_batch_size': 256, 'eval_batch_size': 256, 'test_batch_size': 256, 'num_train_epochs': 500, 'learning_rate': 0.001, 'lr_scheduler_gamma': 1.0, 'max_grad_norm': 1.0, 'contrastive_temperature': 0.05, 'ce_mask_ratio': 0.2, 'early_stopping': 10, 'model_save_path': './weights/finetune-Toys-8192batch', 'model_resume_path': './weights/pretrain-webvid-2layer-512dim', 'rank': 0, 'local_rank': 0, 'world_size': 1, 'device': 'cpu'}\r\n",
      "Dataset train items : 11924\r\n",
      "Dataset train sequence : 109361\r\n",
      "/opt/conda/lib/python3.10/site-packages/torch/utils/data/dataloader.py:561: UserWarning: This DataLoader will create 8 worker processes in total. Our suggested max number of worker in current system is 4, which is smaller than what this DataLoader is going to create. Please be aware that excessive worker creation might get DataLoader running slow or even freeze, lower the worker number to avoid potential slowness/freeze if necessary.\r\n",
      "  warnings.warn(_create_warning_msg(\r\n",
      "Dataset eval items : 11924\r\n",
      "Dataset eval sequence : 19412\r\n",
      "Dataset test items : 11924\r\n",
      "Dataset test sequence : 19412\r\n",
      "Traceback (most recent call last):\r\n",
      "  File \"/kaggle/working/MMSRec-main/finetune_amazon.py\", line 125, in <module>\r\n",
      "    main()\r\n",
      "  File \"/kaggle/working/MMSRec-main/finetune_amazon.py\", line 118, in main\r\n",
      "    run(args)\r\n",
      "  File \"/kaggle/working/MMSRec-main/finetune_amazon.py\", line 73, in run\r\n",
      "    fusion_model = DDP(fusion_model, device_ids=[args.local_rank], output_device=args.local_rank)\r\n",
      "  File \"/opt/conda/lib/python3.10/site-packages/torch/nn/parallel/distributed.py\", line 603, in __init__\r\n",
      "    self._log_and_throw(\r\n",
      "  File \"/opt/conda/lib/python3.10/site-packages/torch/nn/parallel/distributed.py\", line 769, in _log_and_throw\r\n",
      "    raise err_type(err_msg)\r\n",
      "ValueError: DistributedDataParallel device_ids and output_device arguments only work with single-device/multiple-device GPU modules or CPU modules, but got device_ids [0], output_device 0, and module parameters {device(type='cpu')}.\r\n",
      "Traceback (most recent call last):\r\n",
      "  File \"/opt/conda/bin/torchrun\", line 8, in <module>\r\n",
      "    sys.exit(main())\r\n",
      "  File \"/opt/conda/lib/python3.10/site-packages/torch/distributed/elastic/multiprocessing/errors/__init__.py\", line 346, in wrapper\r\n",
      "    return f(*args, **kwargs)\r\n",
      "  File \"/opt/conda/lib/python3.10/site-packages/torch/distributed/run.py\", line 794, in main\r\n",
      "    run(args)\r\n",
      "  File \"/opt/conda/lib/python3.10/site-packages/torch/distributed/run.py\", line 785, in run\r\n",
      "    elastic_launch(\r\n",
      "  File \"/opt/conda/lib/python3.10/site-packages/torch/distributed/launcher/api.py\", line 134, in __call__\r\n",
      "    return launch_agent(self._config, self._entrypoint, list(args))\r\n",
      "  File \"/opt/conda/lib/python3.10/site-packages/torch/distributed/launcher/api.py\", line 250, in launch_agent\r\n",
      "    raise ChildFailedError(\r\n",
      "torch.distributed.elastic.multiprocessing.errors.ChildFailedError: \r\n",
      "============================================================\r\n",
      "finetune_amazon.py FAILED\r\n",
      "------------------------------------------------------------\r\n",
      "Failures:\r\n",
      "  <NO_OTHER_FAILURES>\r\n",
      "------------------------------------------------------------\r\n",
      "Root Cause (first observed failure):\r\n",
      "[0]:\r\n",
      "  time      : 2023-08-03_14:24:36\r\n",
      "  host      : 217cf00f2fc1\r\n",
      "  rank      : 0 (local_rank: 0)\r\n",
      "  exitcode  : 1 (pid: 206)\r\n",
      "  error_file: <N/A>\r\n",
      "  traceback : To enable traceback see: https://pytorch.org/docs/stable/elastic/errors.html\r\n",
      "============================================================\r\n"
     ]
    }
   ],
   "source": [
    "!torchrun --nnodes=1:5 --nproc_per_node=1 --max_restarts=0 --rdzv_id=1 --rdzv_backend=c10d --rdzv_endpoint=\"127.0.0.1:12309\" finetune_amazon.py --config=\"/kaggle/input/finetunetoys/finetune_amazon.yaml\""
   ]
  },
  {
   "cell_type": "code",
   "execution_count": 17,
   "id": "9f07b2bb",
   "metadata": {
    "execution": {
     "iopub.execute_input": "2023-08-03T14:24:37.785097Z",
     "iopub.status.busy": "2023-08-03T14:24:37.784550Z",
     "iopub.status.idle": "2023-08-03T14:26:13.258877Z",
     "shell.execute_reply": "2023-08-03T14:26:13.256486Z"
    },
    "papermill": {
     "duration": 95.551307,
     "end_time": "2023-08-03T14:26:13.263533",
     "exception": false,
     "start_time": "2023-08-03T14:24:37.712226",
     "status": "completed"
    },
    "tags": []
   },
   "outputs": [
    {
     "name": "stdout",
     "output_type": "stream",
     "text": [
      "08/03/2023 14:25:27 - INFO - __main__ - {'config': './configs/finetuning/finetune_amazon.yaml', 'wandb_enable': False, 'project_name': '', 'display_name': '', 'num_worker': 8, 'train_item_file': '/kaggle/working/MMSRec-main/dataset/amazon/processed/Sports/item_feature.jsonl', 'train_seq_file': '/kaggle/working/MMSRec-main/dataset/amazon/processed/Sports/train_seq.jsonl', 'eval_item_file': '/kaggle/working/MMSRec-main/dataset/amazon/processed/Sports/item_feature.jsonl', 'eval_seq_file': '/kaggle/working/MMSRec-main/dataset/amazon/processed/Sports/eval_seq.jsonl', 'test_item_file': '/kaggle/working/MMSRec-main/dataset/amazon/processed/Sports/item_feature.jsonl', 'test_seq_file': '/kaggle/working/MMSRec-main/dataset/amazon/processed/Sports/test_seq.jsonl', 'max_seq_length': 20, 'train_vision_format': 'embed', 'eval_vision_format': 'embed', 'test_vision_format': 'embed', 'max_vision_frames': 10, 'train_text_format': 'embed', 'eval_text_format': 'embed', 'test_text_format': 'embed', 'clip_model_path': './weights/clip/ViT-B-32.pt', 'vision_feature_embed_dim': 512, 'text_feature_embed_dim': 512, 'fusion_embed_dim': 512, 'fusion_layers': 2, 'fusion_heads': 8, 'fusion_feedforward_dim': 1024, 'fusion_dropout': 0.5, 'fusion_embed_dropout': 0.2, 'initializer_range': 0.02, 'seed': 42, 'log_file': './logs/finetune-amazon-2layer.log', 'train_batch_size': 1024, 'eval_batch_size': 1024, 'test_batch_size': 1024, 'num_train_epochs': 500, 'learning_rate': 0.001, 'lr_scheduler_gamma': 1.0, 'max_grad_norm': 1.0, 'contrastive_temperature': 0.05, 'ce_mask_ratio': 0.2, 'early_stopping': 10, 'model_save_path': './weights/finetune-Sports-8192batch', 'model_resume_path': './weights/pretrain-webvid-2layer-512dim', 'rank': 0, 'local_rank': 0, 'world_size': 8, 'device': 'cpu'}\r\n",
      "/opt/conda/lib/python3.10/site-packages/torch/utils/data/dataloader.py:561: UserWarning: This DataLoader will create 8 worker processes in total. Our suggested max number of worker in current system is 4, which is smaller than what this DataLoader is going to create. Please be aware that excessive worker creation might get DataLoader running slow or even freeze, lower the worker number to avoid potential slowness/freeze if necessary.\r\n",
      "  warnings.warn(_create_warning_msg(\r\n",
      "/opt/conda/lib/python3.10/site-packages/torch/utils/data/dataloader.py:561: UserWarning: This DataLoader will create 8 worker processes in total. Our suggested max number of worker in current system is 4, which is smaller than what this DataLoader is going to create. Please be aware that excessive worker creation might get DataLoader running slow or even freeze, lower the worker number to avoid potential slowness/freeze if necessary.\r\n",
      "  warnings.warn(_create_warning_msg(\r\n",
      "/opt/conda/lib/python3.10/site-packages/torch/utils/data/dataloader.py:561: UserWarning: This DataLoader will create 8 worker processes in total. Our suggested max number of worker in current system is 4, which is smaller than what this DataLoader is going to create. Please be aware that excessive worker creation might get DataLoader running slow or even freeze, lower the worker number to avoid potential slowness/freeze if necessary.\r\n",
      "  warnings.warn(_create_warning_msg(\r\n",
      "/opt/conda/lib/python3.10/site-packages/torch/utils/data/dataloader.py:561: UserWarning: This DataLoader will create 8 worker processes in total. Our suggested max number of worker in current system is 4, which is smaller than what this DataLoader is going to create. Please be aware that excessive worker creation might get DataLoader running slow or even freeze, lower the worker number to avoid potential slowness/freeze if necessary.\r\n",
      "  warnings.warn(_create_warning_msg(\r\n",
      "Dataset train items : 18357\r\n",
      "Dataset train sequence : 189543\r\n",
      "/opt/conda/lib/python3.10/site-packages/torch/utils/data/dataloader.py:561: UserWarning: This DataLoader will create 8 worker processes in total. Our suggested max number of worker in current system is 4, which is smaller than what this DataLoader is going to create. Please be aware that excessive worker creation might get DataLoader running slow or even freeze, lower the worker number to avoid potential slowness/freeze if necessary.\r\n",
      "  warnings.warn(_create_warning_msg(\r\n",
      "/opt/conda/lib/python3.10/site-packages/torch/utils/data/dataloader.py:561: UserWarning: This DataLoader will create 8 worker processes in total. Our suggested max number of worker in current system is 4, which is smaller than what this DataLoader is going to create. Please be aware that excessive worker creation might get DataLoader running slow or even freeze, lower the worker number to avoid potential slowness/freeze if necessary.\r\n",
      "  warnings.warn(_create_warning_msg(\r\n",
      "/opt/conda/lib/python3.10/site-packages/torch/utils/data/dataloader.py:561: UserWarning: This DataLoader will create 8 worker processes in total. Our suggested max number of worker in current system is 4, which is smaller than what this DataLoader is going to create. Please be aware that excessive worker creation might get DataLoader running slow or even freeze, lower the worker number to avoid potential slowness/freeze if necessary.\r\n",
      "  warnings.warn(_create_warning_msg(\r\n",
      "/opt/conda/lib/python3.10/site-packages/torch/utils/data/dataloader.py:561: UserWarning: This DataLoader will create 8 worker processes in total. Our suggested max number of worker in current system is 4, which is smaller than what this DataLoader is going to create. Please be aware that excessive worker creation might get DataLoader running slow or even freeze, lower the worker number to avoid potential slowness/freeze if necessary.\r\n",
      "  warnings.warn(_create_warning_msg(\r\n",
      "Dataset eval items : 18357\r\n",
      "Dataset eval sequence : 35598\r\n",
      "Dataset test items : 18357\r\n",
      "Dataset test sequence : 35598\r\n",
      "Traceback (most recent call last):\r\n",
      "  File \"/kaggle/working/MMSRec-main/finetune_amazon.py\", line 125, in <module>\r\n",
      "    main()\r\n",
      "  File \"/kaggle/working/MMSRec-main/finetune_amazon.py\", line 118, in main\r\n",
      "    run(args)\r\n",
      "  File \"/kaggle/working/MMSRec-main/finetune_amazon.py\", line 73, in run\r\n",
      "    fusion_model = DDP(fusion_model, device_ids=[args.local_rank], output_device=args.local_rank)\r\n",
      "  File \"/opt/conda/lib/python3.10/site-packages/torch/nn/parallel/distributed.py\", line 603, in __init__\r\n",
      "    self._log_and_throw(\r\n",
      "  File \"/opt/conda/lib/python3.10/site-packages/torch/nn/parallel/distributed.py\", line 769, in _log_and_throw\r\n",
      "    raise err_type(err_msg)\r\n",
      "ValueError: DistributedDataParallel device_ids and output_device arguments only work with single-device/multiple-device GPU modules or CPU modules, but got device_ids [6], output_device 6, and module parameters {device(type='cpu')}.\r\n",
      "Traceback (most recent call last):\r\n",
      "  File \"/kaggle/working/MMSRec-main/finetune_amazon.py\", line 125, in <module>\r\n",
      "    main()\r\n",
      "  File \"/kaggle/working/MMSRec-main/finetune_amazon.py\", line 118, in main\r\n",
      "    run(args)\r\n",
      "  File \"/kaggle/working/MMSRec-main/finetune_amazon.py\", line 73, in run\r\n",
      "    fusion_model = DDP(fusion_model, device_ids=[args.local_rank], output_device=args.local_rank)\r\n",
      "  File \"/opt/conda/lib/python3.10/site-packages/torch/nn/parallel/distributed.py\", line 603, in __init__\r\n",
      "    self._log_and_throw(\r\n",
      "  File \"/opt/conda/lib/python3.10/site-packages/torch/nn/parallel/distributed.py\", line 769, in _log_and_throw\r\n",
      "    raise err_type(err_msg)\r\n",
      "ValueError: DistributedDataParallel device_ids and output_device arguments only work with single-device/multiple-device GPU modules or CPU modules, but got device_ids [1], output_device 1, and module parameters {device(type='cpu')}.\r\n",
      "Traceback (most recent call last):\r\n",
      "  File \"/kaggle/working/MMSRec-main/finetune_amazon.py\", line 125, in <module>\r\n",
      "    main()\r\n",
      "  File \"/kaggle/working/MMSRec-main/finetune_amazon.py\", line 118, in main\r\n",
      "    run(args)\r\n",
      "  File \"/kaggle/working/MMSRec-main/finetune_amazon.py\", line 73, in run\r\n",
      "    fusion_model = DDP(fusion_model, device_ids=[args.local_rank], output_device=args.local_rank)\r\n",
      "  File \"/opt/conda/lib/python3.10/site-packages/torch/nn/parallel/distributed.py\", line 603, in __init__\r\n",
      "    self._log_and_throw(\r\n",
      "  File \"/opt/conda/lib/python3.10/site-packages/torch/nn/parallel/distributed.py\", line 769, in _log_and_throw\r\n",
      "    raise err_type(err_msg)\r\n",
      "ValueError: DistributedDataParallel device_ids and output_device arguments only work with single-device/multiple-device GPU modules or CPU modules, but got device_ids [7], output_device 7, and module parameters {device(type='cpu')}.\r\n",
      "Traceback (most recent call last):\r\n",
      "  File \"/kaggle/working/MMSRec-main/finetune_amazon.py\", line 125, in <module>\r\n",
      "    main()\r\n",
      "  File \"/kaggle/working/MMSRec-main/finetune_amazon.py\", line 118, in main\r\n",
      "    run(args)\r\n",
      "  File \"/kaggle/working/MMSRec-main/finetune_amazon.py\", line 73, in run\r\n",
      "    fusion_model = DDP(fusion_model, device_ids=[args.local_rank], output_device=args.local_rank)\r\n",
      "  File \"/opt/conda/lib/python3.10/site-packages/torch/nn/parallel/distributed.py\", line 603, in __init__\r\n",
      "    self._log_and_throw(\r\n",
      "  File \"/opt/conda/lib/python3.10/site-packages/torch/nn/parallel/distributed.py\", line 769, in _log_and_throw\r\n",
      "    raise err_type(err_msg)\r\n",
      "ValueError: DistributedDataParallel device_ids and output_device arguments only work with single-device/multiple-device GPU modules or CPU modules, but got device_ids [3], output_device 3, and module parameters {device(type='cpu')}.\r\n",
      "Traceback (most recent call last):\r\n",
      "  File \"/kaggle/working/MMSRec-main/finetune_amazon.py\", line 125, in <module>\r\n",
      "    main()\r\n",
      "  File \"/kaggle/working/MMSRec-main/finetune_amazon.py\", line 118, in main\r\n",
      "    run(args)\r\n",
      "  File \"/kaggle/working/MMSRec-main/finetune_amazon.py\", line 73, in run\r\n",
      "    fusion_model = DDP(fusion_model, device_ids=[args.local_rank], output_device=args.local_rank)\r\n",
      "  File \"/opt/conda/lib/python3.10/site-packages/torch/nn/parallel/distributed.py\", line 603, in __init__\r\n",
      "    self._log_and_throw(\r\n",
      "  File \"/opt/conda/lib/python3.10/site-packages/torch/nn/parallel/distributed.py\", line 769, in _log_and_throw\r\n",
      "    raise err_type(err_msg)\r\n",
      "ValueError: DistributedDataParallel device_ids and output_device arguments only work with single-device/multiple-device GPU modules or CPU modules, but got device_ids [5], output_device 5, and module parameters {device(type='cpu')}.\r\n",
      "Traceback (most recent call last):\r\n",
      "  File \"/kaggle/working/MMSRec-main/finetune_amazon.py\", line 125, in <module>\r\n",
      "    main()\r\n",
      "  File \"/kaggle/working/MMSRec-main/finetune_amazon.py\", line 118, in main\r\n",
      "    run(args)\r\n",
      "  File \"/kaggle/working/MMSRec-main/finetune_amazon.py\", line 73, in run\r\n",
      "    fusion_model = DDP(fusion_model, device_ids=[args.local_rank], output_device=args.local_rank)\r\n",
      "  File \"/opt/conda/lib/python3.10/site-packages/torch/nn/parallel/distributed.py\", line 603, in __init__\r\n",
      "    self._log_and_throw(\r\n",
      "  File \"/opt/conda/lib/python3.10/site-packages/torch/nn/parallel/distributed.py\", line 769, in _log_and_throw\r\n",
      "    raise err_type(err_msg)\r\n",
      "ValueError: DistributedDataParallel device_ids and output_device arguments only work with single-device/multiple-device GPU modules or CPU modules, but got device_ids [0], output_device 0, and module parameters {device(type='cpu')}.\r\n",
      "Traceback (most recent call last):\r\n",
      "  File \"/kaggle/working/MMSRec-main/finetune_amazon.py\", line 125, in <module>\r\n",
      "    main()\r\n",
      "  File \"/kaggle/working/MMSRec-main/finetune_amazon.py\", line 118, in main\r\n",
      "    run(args)\r\n",
      "  File \"/kaggle/working/MMSRec-main/finetune_amazon.py\", line 73, in run\r\n",
      "    fusion_model = DDP(fusion_model, device_ids=[args.local_rank], output_device=args.local_rank)\r\n",
      "  File \"/opt/conda/lib/python3.10/site-packages/torch/nn/parallel/distributed.py\", line 603, in __init__\r\n",
      "    self._log_and_throw(\r\n",
      "  File \"/opt/conda/lib/python3.10/site-packages/torch/nn/parallel/distributed.py\", line 769, in _log_and_throw\r\n",
      "    raise err_type(err_msg)\r\n",
      "ValueError: DistributedDataParallel device_ids and output_device arguments only work with single-device/multiple-device GPU modules or CPU modules, but got device_ids [2], output_device 2, and module parameters {device(type='cpu')}.\r\n",
      "Traceback (most recent call last):\r\n",
      "  File \"/kaggle/working/MMSRec-main/finetune_amazon.py\", line 125, in <module>\r\n",
      "    main()\r\n",
      "  File \"/kaggle/working/MMSRec-main/finetune_amazon.py\", line 118, in main\r\n",
      "    run(args)\r\n",
      "  File \"/kaggle/working/MMSRec-main/finetune_amazon.py\", line 73, in run\r\n",
      "    fusion_model = DDP(fusion_model, device_ids=[args.local_rank], output_device=args.local_rank)\r\n",
      "  File \"/opt/conda/lib/python3.10/site-packages/torch/nn/parallel/distributed.py\", line 603, in __init__\r\n",
      "    self._log_and_throw(\r\n",
      "  File \"/opt/conda/lib/python3.10/site-packages/torch/nn/parallel/distributed.py\", line 769, in _log_and_throw\r\n",
      "    raise err_type(err_msg)\r\n",
      "ValueError: DistributedDataParallel device_ids and output_device arguments only work with single-device/multiple-device GPU modules or CPU modules, but got device_ids [4], output_device 4, and module parameters {device(type='cpu')}.\r\n",
      "Traceback (most recent call last):\r\n",
      "  File \"/opt/conda/bin/torchrun\", line 8, in <module>\r\n",
      "    sys.exit(main())\r\n",
      "  File \"/opt/conda/lib/python3.10/site-packages/torch/distributed/elastic/multiprocessing/errors/__init__.py\", line 346, in wrapper\r\n",
      "    return f(*args, **kwargs)\r\n",
      "  File \"/opt/conda/lib/python3.10/site-packages/torch/distributed/run.py\", line 794, in main\r\n",
      "    run(args)\r\n",
      "  File \"/opt/conda/lib/python3.10/site-packages/torch/distributed/run.py\", line 785, in run\r\n",
      "    elastic_launch(\r\n",
      "  File \"/opt/conda/lib/python3.10/site-packages/torch/distributed/launcher/api.py\", line 134, in __call__\r\n",
      "    return launch_agent(self._config, self._entrypoint, list(args))\r\n",
      "  File \"/opt/conda/lib/python3.10/site-packages/torch/distributed/launcher/api.py\", line 250, in launch_agent\r\n",
      "    raise ChildFailedError(\r\n",
      "torch.distributed.elastic.multiprocessing.errors.ChildFailedError: \r\n",
      "============================================================\r\n",
      "finetune_amazon.py FAILED\r\n",
      "------------------------------------------------------------\r\n",
      "Failures:\r\n",
      "[1]:\r\n",
      "  time      : 2023-08-03_14:26:12\r\n",
      "  host      : 217cf00f2fc1\r\n",
      "  rank      : 1 (local_rank: 1)\r\n",
      "  exitcode  : 1 (pid: 228)\r\n",
      "  error_file: <N/A>\r\n",
      "  traceback : To enable traceback see: https://pytorch.org/docs/stable/elastic/errors.html\r\n",
      "[2]:\r\n",
      "  time      : 2023-08-03_14:26:12\r\n",
      "  host      : 217cf00f2fc1\r\n",
      "  rank      : 2 (local_rank: 2)\r\n",
      "  exitcode  : 1 (pid: 229)\r\n",
      "  error_file: <N/A>\r\n",
      "  traceback : To enable traceback see: https://pytorch.org/docs/stable/elastic/errors.html\r\n",
      "[3]:\r\n",
      "  time      : 2023-08-03_14:26:12\r\n",
      "  host      : 217cf00f2fc1\r\n",
      "  rank      : 3 (local_rank: 3)\r\n",
      "  exitcode  : 1 (pid: 230)\r\n",
      "  error_file: <N/A>\r\n",
      "  traceback : To enable traceback see: https://pytorch.org/docs/stable/elastic/errors.html\r\n",
      "[4]:\r\n",
      "  time      : 2023-08-03_14:26:12\r\n",
      "  host      : 217cf00f2fc1\r\n",
      "  rank      : 4 (local_rank: 4)\r\n",
      "  exitcode  : 1 (pid: 231)\r\n",
      "  error_file: <N/A>\r\n",
      "  traceback : To enable traceback see: https://pytorch.org/docs/stable/elastic/errors.html\r\n",
      "[5]:\r\n",
      "  time      : 2023-08-03_14:26:12\r\n",
      "  host      : 217cf00f2fc1\r\n",
      "  rank      : 5 (local_rank: 5)\r\n",
      "  exitcode  : 1 (pid: 232)\r\n",
      "  error_file: <N/A>\r\n",
      "  traceback : To enable traceback see: https://pytorch.org/docs/stable/elastic/errors.html\r\n",
      "[6]:\r\n",
      "  time      : 2023-08-03_14:26:12\r\n",
      "  host      : 217cf00f2fc1\r\n",
      "  rank      : 6 (local_rank: 6)\r\n",
      "  exitcode  : 1 (pid: 233)\r\n",
      "  error_file: <N/A>\r\n",
      "  traceback : To enable traceback see: https://pytorch.org/docs/stable/elastic/errors.html\r\n",
      "[7]:\r\n",
      "  time      : 2023-08-03_14:26:12\r\n",
      "  host      : 217cf00f2fc1\r\n",
      "  rank      : 7 (local_rank: 7)\r\n",
      "  exitcode  : 1 (pid: 234)\r\n",
      "  error_file: <N/A>\r\n",
      "  traceback : To enable traceback see: https://pytorch.org/docs/stable/elastic/errors.html\r\n",
      "------------------------------------------------------------\r\n",
      "Root Cause (first observed failure):\r\n",
      "[0]:\r\n",
      "  time      : 2023-08-03_14:26:12\r\n",
      "  host      : 217cf00f2fc1\r\n",
      "  rank      : 0 (local_rank: 0)\r\n",
      "  exitcode  : 1 (pid: 227)\r\n",
      "  error_file: <N/A>\r\n",
      "  traceback : To enable traceback see: https://pytorch.org/docs/stable/elastic/errors.html\r\n",
      "============================================================\r\n"
     ]
    }
   ],
   "source": [
    "!sh finetune_amazon.sh"
   ]
  },
  {
   "cell_type": "markdown",
   "id": "f7cf64c6",
   "metadata": {
    "papermill": {
     "duration": 0.075543,
     "end_time": "2023-08-03T14:26:13.414568",
     "exception": false,
     "start_time": "2023-08-03T14:26:13.339025",
     "status": "completed"
    },
    "tags": []
   },
   "source": [
    "# **processed Books**"
   ]
  },
  {
   "cell_type": "code",
   "execution_count": 18,
   "id": "d785700f",
   "metadata": {
    "execution": {
     "iopub.execute_input": "2023-08-03T14:26:13.566203Z",
     "iopub.status.busy": "2023-08-03T14:26:13.565699Z",
     "iopub.status.idle": "2023-08-03T14:26:14.946867Z",
     "shell.execute_reply": "2023-08-03T14:26:14.944968Z"
    },
    "papermill": {
     "duration": 1.46205,
     "end_time": "2023-08-03T14:26:14.950170",
     "exception": false,
     "start_time": "2023-08-03T14:26:13.488120",
     "status": "completed"
    },
    "tags": []
   },
   "outputs": [
    {
     "name": "stdout",
     "output_type": "stream",
     "text": [
      "fatal: destination path 'MMSRec' already exists and is not an empty directory.\r\n"
     ]
    }
   ],
   "source": [
    "from kaggle_secrets import UserSecretsClient\n",
    "user_secrets = UserSecretsClient()\n",
    "secret_value_0 = user_secrets.get_secret(\"secret_tokens\")\n",
    "\n",
    "# folder_path = '/kaggle/working/MMSRec-main'\n",
    "# remove_folder_contents(folder_path)\n",
    "# os.rmdir(folder_path)\n",
    "\n",
    "!git clone https://seecret_value_0@github.com/mairyy/MMSRec.git"
   ]
  },
  {
   "cell_type": "code",
   "execution_count": 19,
   "id": "dc913193",
   "metadata": {
    "execution": {
     "iopub.execute_input": "2023-08-03T14:26:15.101284Z",
     "iopub.status.busy": "2023-08-03T14:26:15.100755Z",
     "iopub.status.idle": "2023-08-03T14:26:30.849494Z",
     "shell.execute_reply": "2023-08-03T14:26:30.847651Z"
    },
    "papermill": {
     "duration": 15.825424,
     "end_time": "2023-08-03T14:26:30.852555",
     "exception": false,
     "start_time": "2023-08-03T14:26:15.027131",
     "status": "completed"
    },
    "tags": []
   },
   "outputs": [
    {
     "name": "stdout",
     "output_type": "stream",
     "text": [
      "Requirement already satisfied: jsonlines in /opt/conda/lib/python3.10/site-packages (3.1.0)\r\n",
      "Requirement already satisfied: attrs>=19.2.0 in /opt/conda/lib/python3.10/site-packages (from jsonlines) (23.1.0)\r\n",
      "\u001b[33mWARNING: Running pip as the 'root' user can result in broken permissions and conflicting behaviour with the system package manager. It is recommended to use a virtual environment instead: https://pip.pypa.io/warnings/venv\u001b[0m\u001b[33m\r\n",
      "\u001b[0m[Errno 2] No such file or directory: '/kaggle/working/MMSRec/weights/clip'\n",
      "/kaggle/working/MMSRec-main\n",
      "sh: 0: Can't open download.sh\r\n"
     ]
    }
   ],
   "source": [
    "!pip install jsonlines\n",
    "%cd '/kaggle/working/MMSRec/weights/clip'\n",
    "!sh download.sh"
   ]
  },
  {
   "cell_type": "code",
   "execution_count": 20,
   "id": "b17231c2",
   "metadata": {
    "execution": {
     "iopub.execute_input": "2023-08-03T14:26:31.005104Z",
     "iopub.status.busy": "2023-08-03T14:26:31.004629Z",
     "iopub.status.idle": "2023-08-03T14:26:31.018356Z",
     "shell.execute_reply": "2023-08-03T14:26:31.016701Z"
    },
    "papermill": {
     "duration": 0.092353,
     "end_time": "2023-08-03T14:26:31.021405",
     "exception": false,
     "start_time": "2023-08-03T14:26:30.929052",
     "status": "completed"
    },
    "tags": []
   },
   "outputs": [
    {
     "name": "stdout",
     "output_type": "stream",
     "text": [
      "[Errno 2] No such file or directory: '/kaggle/working/MMSRec/dataset/amazon'\n",
      "/kaggle/working/MMSRec-main\n"
     ]
    }
   ],
   "source": [
    "%cd '/kaggle/working/MMSRec/dataset/amazon'"
   ]
  },
  {
   "cell_type": "code",
   "execution_count": 21,
   "id": "2c0e9775",
   "metadata": {
    "execution": {
     "iopub.execute_input": "2023-08-03T14:26:31.170064Z",
     "iopub.status.busy": "2023-08-03T14:26:31.169616Z",
     "iopub.status.idle": "2023-08-03T14:28:56.368327Z",
     "shell.execute_reply": "2023-08-03T14:28:56.366274Z"
    },
    "papermill": {
     "duration": 145.2772,
     "end_time": "2023-08-03T14:28:56.372230",
     "exception": false,
     "start_time": "2023-08-03T14:26:31.095030",
     "status": "completed"
    },
    "tags": []
   },
   "outputs": [
    {
     "name": "stdout",
     "output_type": "stream",
     "text": [
      "/kaggle/working/MMSRec-main/raw\n",
      "/kaggle/working/MMSRec-main/raw/Books\n",
      "--2023-08-03 14:26:34--  http://snap.stanford.edu/data/amazon/productGraph/categoryFiles/ratings_Books.csv\r\n",
      "Resolving snap.stanford.edu (snap.stanford.edu)... 171.64.75.80\r\n",
      "Connecting to snap.stanford.edu (snap.stanford.edu)|171.64.75.80|:80... connected.\r\n",
      "HTTP request sent, awaiting response... 200 OK\r\n",
      "Length: 916259348 (874M) [text/csv]\r\n",
      "Saving to: ‘ratings_Books.csv’\r\n",
      "\r\n",
      "ratings_Books.csv   100%[===================>] 873.81M  14.9MB/s    in 78s     \r\n",
      "\r\n",
      "2023-08-03 14:27:52 (11.2 MB/s) - ‘ratings_Books.csv’ saved [916259348/916259348]\r\n",
      "\r\n",
      "--2023-08-03 14:27:53--  http://snap.stanford.edu/data/amazon/productGraph/categoryFiles/meta_Books.json.gz\r\n",
      "Resolving snap.stanford.edu (snap.stanford.edu)... 171.64.75.80\r\n",
      "Connecting to snap.stanford.edu (snap.stanford.edu)|171.64.75.80|:80... connected.\r\n",
      "HTTP request sent, awaiting response... 200 OK\r\n",
      "Length: 825767823 (788M) [application/x-gzip]\r\n",
      "Saving to: ‘meta_Books.json.gz’\r\n",
      "\r\n",
      "meta_Books.json.gz  100%[===================>] 787.51M  14.6MB/s    in 62s     \r\n",
      "\r\n",
      "2023-08-03 14:28:56 (12.7 MB/s) - ‘meta_Books.json.gz’ saved [825767823/825767823]\r\n",
      "\r\n",
      "/kaggle/working/MMSRec-main/raw\n"
     ]
    }
   ],
   "source": [
    "!mkdir raw\n",
    "%cd 'raw'\n",
    "!mkdir Books\n",
    "%cd 'Books'\n",
    "!wget --no-check-certificate http://snap.stanford.edu/data/amazon/productGraph/categoryFiles/ratings_Books.csv\n",
    "!wget --no-check-certificate http://snap.stanford.edu/data/amazon/productGraph/categoryFiles/meta_Books.json.gz\n",
    "%cd ../"
   ]
  },
  {
   "cell_type": "code",
   "execution_count": 22,
   "id": "c516f2a5",
   "metadata": {
    "execution": {
     "iopub.execute_input": "2023-08-03T14:28:56.651820Z",
     "iopub.status.busy": "2023-08-03T14:28:56.650631Z",
     "iopub.status.idle": "2023-08-03T14:28:57.953028Z",
     "shell.execute_reply": "2023-08-03T14:28:57.951922Z"
    },
    "papermill": {
     "duration": 1.451399,
     "end_time": "2023-08-03T14:28:57.955972",
     "exception": false,
     "start_time": "2023-08-03T14:28:56.504573",
     "status": "completed"
    },
    "tags": []
   },
   "outputs": [
    {
     "name": "stdout",
     "output_type": "stream",
     "text": [
      "[Errno 2] No such file or directory: '/kaggle/working/MMSRec/dataset/amazon/preprocess'\n",
      "/kaggle/working/MMSRec-main/raw\n",
      "python: can't open file '/kaggle/working/MMSRec-main/raw/process_item.py': [Errno 2] No such file or directory\r\n"
     ]
    }
   ],
   "source": [
    "%cd '/kaggle/working/MMSRec/dataset/amazon/preprocess'\n",
    "!python process_item.py"
   ]
  },
  {
   "cell_type": "markdown",
   "id": "a83b6647",
   "metadata": {
    "papermill": {
     "duration": 0.128709,
     "end_time": "2023-08-03T14:28:58.216809",
     "exception": false,
     "start_time": "2023-08-03T14:28:58.088100",
     "status": "completed"
    },
    "tags": []
   },
   "source": [
    "# chạy lại code gốc với clothings"
   ]
  },
  {
   "cell_type": "code",
   "execution_count": 23,
   "id": "7ea2a89e",
   "metadata": {
    "execution": {
     "iopub.execute_input": "2023-08-03T14:28:58.484560Z",
     "iopub.status.busy": "2023-08-03T14:28:58.483638Z",
     "iopub.status.idle": "2023-08-03T14:29:15.971067Z",
     "shell.execute_reply": "2023-08-03T14:29:15.969438Z"
    },
    "papermill": {
     "duration": 17.625114,
     "end_time": "2023-08-03T14:29:15.974188",
     "exception": false,
     "start_time": "2023-08-03T14:28:58.349074",
     "status": "completed"
    },
    "tags": []
   },
   "outputs": [
    {
     "name": "stdout",
     "output_type": "stream",
     "text": [
      "Cloning into 'MMSRec'...\r\n",
      "remote: Enumerating objects: 47752, done.\u001b[K\r\n",
      "remote: Counting objects: 100% (11/11), done.\u001b[K\r\n",
      "remote: Compressing objects: 100% (9/9), done.\u001b[K\r\n",
      "remote: Total 47752 (delta 2), reused 9 (delta 1), pack-reused 47741\u001b[K\r\n",
      "Receiving objects: 100% (47752/47752), 232.25 MiB | 23.16 MiB/s, done.\r\n",
      "Resolving deltas: 100% (34/34), done.\r\n",
      "Updating files: 100% (47725/47725), done.\r\n"
     ]
    }
   ],
   "source": [
    "from kaggle_secrets import UserSecretsClient\n",
    "user_secrets = UserSecretsClient()\n",
    "secret_value_0 = user_secrets.get_secret(\"secret_tokens\")\n",
    "\n",
    "# folder_path = '/kaggle/working/MMSRec-main'\n",
    "# remove_folder_contents(folder_path)\n",
    "# os.rmdir(folder_path)\n",
    "\n",
    "!git clone https://seecret_value_0@github.com/mairyy/MMSRec.git"
   ]
  },
  {
   "cell_type": "code",
   "execution_count": 24,
   "id": "b6634f85",
   "metadata": {
    "execution": {
     "iopub.execute_input": "2023-08-03T14:29:16.258773Z",
     "iopub.status.busy": "2023-08-03T14:29:16.258240Z",
     "iopub.status.idle": "2023-08-03T14:29:19.649585Z",
     "shell.execute_reply": "2023-08-03T14:29:19.647885Z"
    },
    "papermill": {
     "duration": 3.537307,
     "end_time": "2023-08-03T14:29:19.652933",
     "exception": false,
     "start_time": "2023-08-03T14:29:16.115626",
     "status": "completed"
    },
    "tags": []
   },
   "outputs": [
    {
     "name": "stdout",
     "output_type": "stream",
     "text": [
      "[Errno 2] No such file or directory: '/kaggle/working/MMSRec'\n",
      "/kaggle/working/MMSRec-main/raw\n",
      "sh: 0: Can't open weights/clip/download.sh\r\n",
      "\u001b[31mERROR: Invalid requirement: 'tensorflow=2.10.0'\r\n",
      "Hint: = is not a valid operator. Did you mean == ?\u001b[0m\u001b[31m\r\n",
      "\u001b[0m"
     ]
    }
   ],
   "source": [
    "%cd '/kaggle/working/MMSRec'\n",
    "!sh weights/clip/download.sh\n",
    "# %cd '/kaggle/working/MMSRec-main'\n",
    "!pip install wandb easydict pynvml torchaudio decord jsonlines transformers torchvision tensorflow=2.10.0 tensorflow-io==0.27.0    "
   ]
  },
  {
   "cell_type": "code",
   "execution_count": 25,
   "id": "0f98ab4b",
   "metadata": {
    "execution": {
     "iopub.execute_input": "2023-08-03T14:29:20.076687Z",
     "iopub.status.busy": "2023-08-03T14:29:20.076058Z",
     "iopub.status.idle": "2023-08-03T14:30:06.421582Z",
     "shell.execute_reply": "2023-08-03T14:30:06.419612Z"
    },
    "papermill": {
     "duration": 46.623793,
     "end_time": "2023-08-03T14:30:06.426208",
     "exception": false,
     "start_time": "2023-08-03T14:29:19.802415",
     "status": "completed"
    },
    "tags": []
   },
   "outputs": [
    {
     "name": "stdout",
     "output_type": "stream",
     "text": [
      "[Errno 2] No such file or directory: '/kaggle/working/MMSRec/dataset/amazon/raw'\n",
      "/kaggle/working/MMSRec-main/raw\n",
      "/kaggle/working/MMSRec-main/raw/Clothing\n",
      "--2023-08-03 14:29:22--  http://snap.stanford.edu/data/amazon/productGraph/categoryFiles/ratings_Clothing_Shoes_and_Jewelry.csv\r\n",
      "Resolving snap.stanford.edu (snap.stanford.edu)... 171.64.75.80\r\n",
      "Connecting to snap.stanford.edu (snap.stanford.edu)|171.64.75.80|:80... connected.\r\n",
      "HTTP request sent, awaiting response... 200 OK\r\n",
      "Length: 234271715 (223M) [text/csv]\r\n",
      "Saving to: ‘ratings_Clothing_Shoes_and_Jewelry.csv’\r\n",
      "\r\n",
      "ratings_Clothing_Sh 100%[===================>] 223.42M  16.7MB/s    in 20s     \r\n",
      "\r\n",
      "2023-08-03 14:29:42 (11.1 MB/s) - ‘ratings_Clothing_Shoes_and_Jewelry.csv’ saved [234271715/234271715]\r\n",
      "\r\n",
      "--2023-08-03 14:29:43--  http://snap.stanford.edu/data/amazon/productGraph/categoryFiles/meta_Clothing_Shoes_and_Jewelry.json.gz\r\n",
      "Resolving snap.stanford.edu (snap.stanford.edu)... 171.64.75.80\r\n",
      "Connecting to snap.stanford.edu (snap.stanford.edu)|171.64.75.80|:80... connected.\r\n",
      "HTTP request sent, awaiting response... 200 OK\r\n",
      "Length: 280989093 (268M) [application/x-gzip]\r\n",
      "Saving to: ‘meta_Clothing_Shoes_and_Jewelry.json.gz’\r\n",
      "\r\n",
      "meta_Clothing_Shoes 100%[===================>] 267.97M  16.6MB/s    in 22s     \r\n",
      "\r\n",
      "2023-08-03 14:30:06 (12.2 MB/s) - ‘meta_Clothing_Shoes_and_Jewelry.json.gz’ saved [280989093/280989093]\r\n",
      "\r\n",
      "/kaggle/working/MMSRec-main/raw\n"
     ]
    }
   ],
   "source": [
    "#download dataset clothings\n",
    "%cd '/kaggle/working/MMSRec/dataset/amazon/raw'\n",
    "!mkdir Clothing\n",
    "%cd ./Clothing\n",
    "!wget --no-check-certificate http://snap.stanford.edu/data/amazon/productGraph/categoryFiles/ratings_Clothing_Shoes_and_Jewelry.csv\n",
    "!wget --no-check-certificate http://snap.stanford.edu/data/amazon/productGraph/categoryFiles/meta_Clothing_Shoes_and_Jewelry.json.gz\n",
    "%cd ../"
   ]
  },
  {
   "cell_type": "code",
   "execution_count": 26,
   "id": "1d94e5e8",
   "metadata": {
    "execution": {
     "iopub.execute_input": "2023-08-03T14:30:06.754191Z",
     "iopub.status.busy": "2023-08-03T14:30:06.752927Z",
     "iopub.status.idle": "2023-08-03T14:30:37.707042Z",
     "shell.execute_reply": "2023-08-03T14:30:37.705473Z"
    },
    "papermill": {
     "duration": 31.119779,
     "end_time": "2023-08-03T14:30:37.709718",
     "exception": false,
     "start_time": "2023-08-03T14:30:06.589939",
     "status": "completed"
    },
    "tags": []
   },
   "outputs": [
    {
     "name": "stdout",
     "output_type": "stream",
     "text": [
      "[Errno 2] No such file or directory: '/kaggle/working/MMSRec/dataset/amazon/raw'\n",
      "/kaggle/working/MMSRec-main/raw\n",
      "/kaggle/working/MMSRec-main/raw/Toysk\n",
      "--2023-08-03 14:30:08--  http://snap.stanford.edu/data/amazon/productGraph/categoryFiles/ratings_Toys_and_Games.csv\r\n",
      "Resolving snap.stanford.edu (snap.stanford.edu)... 171.64.75.80\r\n",
      "Connecting to snap.stanford.edu (snap.stanford.edu)|171.64.75.80|:80... connected.\r\n",
      "HTTP request sent, awaiting response... 200 OK\r\n",
      "Length: 91781923 (88M) [text/csv]\r\n",
      "Saving to: ‘ratings_Toys_and_Games.csv’\r\n",
      "\r\n",
      "ratings_Toys_and_Ga 100%[===================>]  87.53M  17.9MB/s    in 12s     \r\n",
      "\r\n",
      "2023-08-03 14:30:21 (7.08 MB/s) - ‘ratings_Toys_and_Games.csv’ saved [91781923/91781923]\r\n",
      "\r\n",
      "--2023-08-03 14:30:22--  http://snap.stanford.edu/data/amazon/productGraph/categoryFiles/meta_Toys_and_Games.json.gz\r\n",
      "Resolving snap.stanford.edu (snap.stanford.edu)... 171.64.75.80\r\n",
      "Connecting to snap.stanford.edu (snap.stanford.edu)|171.64.75.80|:80... connected.\r\n",
      "HTTP request sent, awaiting response... 200 OK\r\n",
      "Length: 145043023 (138M) [application/x-gzip]\r\n",
      "Saving to: ‘meta_Toys_and_Games.json.gz’\r\n",
      "\r\n",
      "meta_Toys_and_Games 100%[===================>] 138.32M  18.4MB/s    in 15s     \r\n",
      "\r\n",
      "2023-08-03 14:30:37 (9.52 MB/s) - ‘meta_Toys_and_Games.json.gz’ saved [145043023/145043023]\r\n",
      "\r\n",
      "/kaggle/working/MMSRec-main/raw\n"
     ]
    }
   ],
   "source": [
    "#download dataset\n",
    "%cd '/kaggle/working/MMSRec/dataset/amazon/raw'\n",
    "!mkdir Toysk\n",
    "%cd ./Toysk\n",
    "!wget --no-check-certificate http://snap.stanford.edu/data/amazon/productGraph/categoryFiles/ratings_Toys_and_Games.csv\n",
    "!wget --no-check-certificate http://snap.stanford.edu/data/amazon/productGraph/categoryFiles/meta_Toys_and_Games.json.gz\n",
    "%cd ../"
   ]
  },
  {
   "cell_type": "code",
   "execution_count": 27,
   "id": "88333ff7",
   "metadata": {
    "execution": {
     "iopub.execute_input": "2023-08-03T14:30:38.046148Z",
     "iopub.status.busy": "2023-08-03T14:30:38.045686Z",
     "iopub.status.idle": "2023-08-03T14:30:39.304168Z",
     "shell.execute_reply": "2023-08-03T14:30:39.302784Z"
    },
    "papermill": {
     "duration": 1.431286,
     "end_time": "2023-08-03T14:30:39.307250",
     "exception": false,
     "start_time": "2023-08-03T14:30:37.875964",
     "status": "completed"
    },
    "tags": []
   },
   "outputs": [
    {
     "name": "stdout",
     "output_type": "stream",
     "text": [
      "[Errno 2] No such file or directory: '../preprocess'\n",
      "/kaggle/working/MMSRec-main/raw\n",
      "python: can't open file '/kaggle/working/MMSRec-main/raw/process_item.py': [Errno 2] No such file or directory\r\n"
     ]
    }
   ],
   "source": [
    "#process item\n",
    "%cd ../preprocess\n",
    "!python process_item.py"
   ]
  },
  {
   "cell_type": "code",
   "execution_count": 28,
   "id": "5f369571",
   "metadata": {
    "execution": {
     "iopub.execute_input": "2023-08-03T14:30:39.650136Z",
     "iopub.status.busy": "2023-08-03T14:30:39.649615Z",
     "iopub.status.idle": "2023-08-03T14:30:40.905291Z",
     "shell.execute_reply": "2023-08-03T14:30:40.903601Z"
    },
    "papermill": {
     "duration": 1.431485,
     "end_time": "2023-08-03T14:30:40.908475",
     "exception": false,
     "start_time": "2023-08-03T14:30:39.476990",
     "status": "completed"
    },
    "tags": []
   },
   "outputs": [
    {
     "name": "stdout",
     "output_type": "stream",
     "text": [
      "python: can't open file '/kaggle/working/MMSRec-main/raw/extract_features.py': [Errno 2] No such file or directory\r\n"
     ]
    }
   ],
   "source": [
    "#extract feature\n",
    "!python extract_features.py"
   ]
  },
  {
   "cell_type": "code",
   "execution_count": 29,
   "id": "a22fda03",
   "metadata": {
    "execution": {
     "iopub.execute_input": "2023-08-03T14:30:41.247536Z",
     "iopub.status.busy": "2023-08-03T14:30:41.246593Z",
     "iopub.status.idle": "2023-08-03T14:30:42.367959Z",
     "shell.execute_reply": "2023-08-03T14:30:42.366731Z"
    },
    "papermill": {
     "duration": 1.294077,
     "end_time": "2023-08-03T14:30:42.371000",
     "exception": false,
     "start_time": "2023-08-03T14:30:41.076923",
     "status": "completed"
    },
    "tags": []
   },
   "outputs": [
    {
     "name": "stdout",
     "output_type": "stream",
     "text": [
      "\tzip warning: name not matched: /kaggle/working/MMSRec/dataset/amazon/processed\r\n",
      "\r\n",
      "zip error: Nothing to do! (try: zip -r logs.zip . -i /kaggle/working/MMSRec/dataset/amazon/processed)\r\n"
     ]
    }
   ],
   "source": [
    "!zip -r logs.zip /kaggle/working/MMSRec/dataset/amazon/processed"
   ]
  }
 ],
 "metadata": {
  "kernelspec": {
   "display_name": "Python 3",
   "language": "python",
   "name": "python3"
  },
  "language_info": {
   "codemirror_mode": {
    "name": "ipython",
    "version": 3
   },
   "file_extension": ".py",
   "mimetype": "text/x-python",
   "name": "python",
   "nbconvert_exporter": "python",
   "pygments_lexer": "ipython3",
   "version": "3.10.10"
  },
  "papermill": {
   "default_parameters": {},
   "duration": 796.572436,
   "end_time": "2023-08-03T14:30:45.552527",
   "environment_variables": {},
   "exception": null,
   "input_path": "__notebook__.ipynb",
   "output_path": "__notebook__.ipynb",
   "parameters": {},
   "start_time": "2023-08-03T14:17:28.980091",
   "version": "2.4.0"
  }
 },
 "nbformat": 4,
 "nbformat_minor": 5
}
