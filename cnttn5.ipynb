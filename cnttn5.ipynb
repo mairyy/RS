{
 "cells": [
  {
   "cell_type": "code",
   "execution_count": 1,
   "id": "0ef18238",
   "metadata": {
    "_cell_guid": "b1076dfc-b9ad-4769-8c92-a6c4dae69d19",
    "_uuid": "8f2839f25d086af736a60e9eeb907d3b93b6e0e5",
    "execution": {
     "iopub.execute_input": "2024-04-22T03:38:05.375454Z",
     "iopub.status.busy": "2024-04-22T03:38:05.374440Z",
     "iopub.status.idle": "2024-04-22T03:38:06.935102Z",
     "shell.execute_reply": "2024-04-22T03:38:06.933887Z"
    },
    "papermill": {
     "duration": 1.569213,
     "end_time": "2024-04-22T03:38:06.938297",
     "exception": false,
     "start_time": "2024-04-22T03:38:05.369084",
     "status": "completed"
    },
    "tags": []
   },
   "outputs": [],
   "source": [
    "# This Python 3 environment comes with many helpful analytics libraries installed\n",
    "# It is defined by the kaggle/python Docker image: https://github.com/kaggle/docker-python\n",
    "# For example, here's several helpful packages to load\n",
    "\n",
    "import numpy as np # linear algebra\n",
    "import pandas as pd # data processing, CSV file I/O (e.g. pd.read_csv)\n",
    "\n",
    "# Input data files are available in the read-only \"../input/\" directory\n",
    "# For example, running this (by clicking run or pressing Shift+Enter) will list all files under the input directory\n",
    "\n",
    "import os\n",
    "for dirname, _, filenames in os.walk('/kaggle/input'):\n",
    "    for filename in filenames:\n",
    "        print(os.path.join(dirname, filename))\n",
    "        \n",
    "def remove_folder_contents(folder):\n",
    "    for the_file in os.listdir(folder):\n",
    "        file_path = os.path.join(folder, the_file)\n",
    "        try:\n",
    "            if os.path.isfile(file_path):\n",
    "                os.unlink(file_path)\n",
    "            elif os.path.isdir(file_path):\n",
    "                remove_folder_contents(file_path)\n",
    "                os.rmdir(file_path)\n",
    "        except Exception as e:\n",
    "            print(e)\n",
    "\n",
    "# You can write up to 20GB to the current directory (/kaggle/working/) that gets preserved as output when you create a version using \"Save & Run All\" \n",
    "# You can also write temporary files to /kaggle/temp/, but they won't be saved outside of the current session"
   ]
  },
  {
   "cell_type": "code",
   "execution_count": 2,
   "id": "816c5e38",
   "metadata": {
    "execution": {
     "iopub.execute_input": "2024-04-22T03:38:06.947008Z",
     "iopub.status.busy": "2024-04-22T03:38:06.946493Z",
     "iopub.status.idle": "2024-04-22T03:38:11.221848Z",
     "shell.execute_reply": "2024-04-22T03:38:11.220587Z"
    },
    "papermill": {
     "duration": 4.282705,
     "end_time": "2024-04-22T03:38:11.224600",
     "exception": false,
     "start_time": "2024-04-22T03:38:06.941895",
     "status": "completed"
    },
    "tags": []
   },
   "outputs": [
    {
     "name": "stdout",
     "output_type": "stream",
     "text": [
      "Cloning into 'MMSRec'...\r\n",
      "remote: Enumerating objects: 82, done.\u001b[K\r\n",
      "remote: Counting objects: 100% (82/82), done.\u001b[K\r\n",
      "remote: Compressing objects: 100% (62/62), done.\u001b[K\r\n",
      "remote: Total 82 (delta 14), reused 79 (delta 14), pack-reused 0\u001b[K\r\n",
      "Unpacking objects: 100% (82/82), 18.82 MiB | 10.43 MiB/s, done.\r\n"
     ]
    }
   ],
   "source": [
    "from kaggle_secrets import UserSecretsClient\n",
    "user_secrets = UserSecretsClient()\n",
    "secret_value_0 = user_secrets.get_secret(\"secret_tokens\")\n",
    "\n",
    "!git clone https://github.com/kz-song/MMSRec.git"
   ]
  },
  {
   "cell_type": "code",
   "execution_count": 3,
   "id": "72846991",
   "metadata": {
    "execution": {
     "iopub.execute_input": "2024-04-22T03:38:11.233565Z",
     "iopub.status.busy": "2024-04-22T03:38:11.233139Z",
     "iopub.status.idle": "2024-04-22T03:38:52.653465Z",
     "shell.execute_reply": "2024-04-22T03:38:52.652380Z"
    },
    "papermill": {
     "duration": 41.427853,
     "end_time": "2024-04-22T03:38:52.656166",
     "exception": false,
     "start_time": "2024-04-22T03:38:11.228313",
     "status": "completed"
    },
    "tags": []
   },
   "outputs": [
    {
     "name": "stdout",
     "output_type": "stream",
     "text": [
      "/kaggle/working/MMSRec\n",
      "Collecting git+https://github.com/openai/CLIP.git\r\n",
      "  Cloning https://github.com/openai/CLIP.git to /tmp/pip-req-build-be9dlapk\r\n",
      "  Running command git clone --filter=blob:none --quiet https://github.com/openai/CLIP.git /tmp/pip-req-build-be9dlapk\r\n",
      "  Resolved https://github.com/openai/CLIP.git to commit a1d071733d7111c9c014f024669f959182114e33\r\n",
      "  Preparing metadata (setup.py) ... \u001b[?25l-\b \bdone\r\n",
      "\u001b[?25hCollecting ftfy (from clip==1.0)\r\n",
      "  Downloading ftfy-6.2.0-py3-none-any.whl.metadata (7.3 kB)\r\n",
      "Requirement already satisfied: regex in /opt/conda/lib/python3.10/site-packages (from clip==1.0) (2023.12.25)\r\n",
      "Requirement already satisfied: tqdm in /opt/conda/lib/python3.10/site-packages (from clip==1.0) (4.66.1)\r\n",
      "Requirement already satisfied: torch in /opt/conda/lib/python3.10/site-packages (from clip==1.0) (2.1.2)\r\n",
      "Requirement already satisfied: torchvision in /opt/conda/lib/python3.10/site-packages (from clip==1.0) (0.16.2)\r\n",
      "Requirement already satisfied: wcwidth<0.3.0,>=0.2.12 in /opt/conda/lib/python3.10/site-packages (from ftfy->clip==1.0) (0.2.13)\r\n",
      "Requirement already satisfied: filelock in /opt/conda/lib/python3.10/site-packages (from torch->clip==1.0) (3.13.1)\r\n",
      "Requirement already satisfied: typing-extensions in /opt/conda/lib/python3.10/site-packages (from torch->clip==1.0) (4.9.0)\r\n",
      "Requirement already satisfied: sympy in /opt/conda/lib/python3.10/site-packages (from torch->clip==1.0) (1.12)\r\n",
      "Requirement already satisfied: networkx in /opt/conda/lib/python3.10/site-packages (from torch->clip==1.0) (3.2.1)\r\n",
      "Requirement already satisfied: jinja2 in /opt/conda/lib/python3.10/site-packages (from torch->clip==1.0) (3.1.2)\r\n",
      "Requirement already satisfied: fsspec in /opt/conda/lib/python3.10/site-packages (from torch->clip==1.0) (2024.2.0)\r\n",
      "Requirement already satisfied: numpy in /opt/conda/lib/python3.10/site-packages (from torchvision->clip==1.0) (1.26.4)\r\n",
      "Requirement already satisfied: requests in /opt/conda/lib/python3.10/site-packages (from torchvision->clip==1.0) (2.31.0)\r\n",
      "Requirement already satisfied: pillow!=8.3.*,>=5.3.0 in /opt/conda/lib/python3.10/site-packages (from torchvision->clip==1.0) (9.5.0)\r\n",
      "Requirement already satisfied: MarkupSafe>=2.0 in /opt/conda/lib/python3.10/site-packages (from jinja2->torch->clip==1.0) (2.1.3)\r\n",
      "Requirement already satisfied: charset-normalizer<4,>=2 in /opt/conda/lib/python3.10/site-packages (from requests->torchvision->clip==1.0) (3.3.2)\r\n",
      "Requirement already satisfied: idna<4,>=2.5 in /opt/conda/lib/python3.10/site-packages (from requests->torchvision->clip==1.0) (3.6)\r\n",
      "Requirement already satisfied: urllib3<3,>=1.21.1 in /opt/conda/lib/python3.10/site-packages (from requests->torchvision->clip==1.0) (1.26.18)\r\n",
      "Requirement already satisfied: certifi>=2017.4.17 in /opt/conda/lib/python3.10/site-packages (from requests->torchvision->clip==1.0) (2024.2.2)\r\n",
      "Requirement already satisfied: mpmath>=0.19 in /opt/conda/lib/python3.10/site-packages (from sympy->torch->clip==1.0) (1.3.0)\r\n",
      "Downloading ftfy-6.2.0-py3-none-any.whl (54 kB)\r\n",
      "\u001b[2K   \u001b[90m━━━━━━━━━━━━━━━━━━━━━━━━━━━━━━━━━━━━━━━━\u001b[0m \u001b[32m54.4/54.4 kB\u001b[0m \u001b[31m842.9 kB/s\u001b[0m eta \u001b[36m0:00:00\u001b[0m\r\n",
      "\u001b[?25hBuilding wheels for collected packages: clip\r\n",
      "  Building wheel for clip (setup.py) ... \u001b[?25l-\b \b\\\b \bdone\r\n",
      "\u001b[?25h  Created wheel for clip: filename=clip-1.0-py3-none-any.whl size=1369497 sha256=0034c6ddb4db9b0f8a01fdd7e6d743304df2e6e550adea2d624a006875e27679\r\n",
      "  Stored in directory: /tmp/pip-ephem-wheel-cache-vx685a_z/wheels/da/2b/4c/d6691fa9597aac8bb85d2ac13b112deb897d5b50f5ad9a37e4\r\n",
      "Successfully built clip\r\n",
      "Installing collected packages: ftfy, clip\r\n",
      "Successfully installed clip-1.0 ftfy-6.2.0\r\n",
      "--2024-04-22 03:38:33--  https://openaipublic.azureedge.net/clip/models/40d365715913c9da98579312b702a82c18be219cc2a73407c4526f58eba950af/ViT-B-32.pt\r\n",
      "Resolving openaipublic.azureedge.net (openaipublic.azureedge.net)... 13.107.246.38, 13.107.213.38, 2620:1ec:bdf::38, ...\r\n",
      "Connecting to openaipublic.azureedge.net (openaipublic.azureedge.net)|13.107.246.38|:443... connected.\r\n",
      "HTTP request sent, awaiting response... 200 OK\r\n",
      "Length: 353976522 (338M) [application/octet-stream]\r\n",
      "Saving to: './weights/clip/ViT-B-32.pt'\r\n",
      "\r\n",
      "ViT-B-32.pt         100%[===================>] 337.58M  95.1MB/s    in 3.5s    \r\n",
      "\r\n",
      "2024-04-22 03:38:36 (96.0 MB/s) - './weights/clip/ViT-B-32.pt' saved [353976522/353976522]\r\n",
      "\r\n",
      "Requirement already satisfied: wandb in /opt/conda/lib/python3.10/site-packages (0.16.6)\r\n",
      "Requirement already satisfied: easydict in /opt/conda/lib/python3.10/site-packages (1.13)\r\n",
      "Requirement already satisfied: pynvml in /opt/conda/lib/python3.10/site-packages (11.4.1)\r\n",
      "Requirement already satisfied: torchaudio in /opt/conda/lib/python3.10/site-packages (2.1.2)\r\n",
      "Collecting decord\r\n",
      "  Downloading decord-0.6.0-py3-none-manylinux2010_x86_64.whl.metadata (422 bytes)\r\n",
      "Collecting jsonlines\r\n",
      "  Downloading jsonlines-4.0.0-py3-none-any.whl.metadata (1.6 kB)\r\n",
      "Requirement already satisfied: transformers in /opt/conda/lib/python3.10/site-packages (4.39.3)\r\n",
      "Requirement already satisfied: torchvision in /opt/conda/lib/python3.10/site-packages (0.16.2)\r\n",
      "Requirement already satisfied: Click!=8.0.0,>=7.1 in /opt/conda/lib/python3.10/site-packages (from wandb) (8.1.7)\r\n",
      "Requirement already satisfied: GitPython!=3.1.29,>=1.0.0 in /opt/conda/lib/python3.10/site-packages (from wandb) (3.1.41)\r\n",
      "Requirement already satisfied: requests<3,>=2.0.0 in /opt/conda/lib/python3.10/site-packages (from wandb) (2.31.0)\r\n",
      "Requirement already satisfied: psutil>=5.0.0 in /opt/conda/lib/python3.10/site-packages (from wandb) (5.9.3)\r\n",
      "Requirement already satisfied: sentry-sdk>=1.0.0 in /opt/conda/lib/python3.10/site-packages (from wandb) (1.45.0)\r\n",
      "Requirement already satisfied: docker-pycreds>=0.4.0 in /opt/conda/lib/python3.10/site-packages (from wandb) (0.4.0)\r\n",
      "Requirement already satisfied: PyYAML in /opt/conda/lib/python3.10/site-packages (from wandb) (6.0.1)\r\n",
      "Requirement already satisfied: setproctitle in /opt/conda/lib/python3.10/site-packages (from wandb) (1.3.3)\r\n",
      "Requirement already satisfied: setuptools in /opt/conda/lib/python3.10/site-packages (from wandb) (69.0.3)\r\n",
      "Requirement already satisfied: appdirs>=1.4.3 in /opt/conda/lib/python3.10/site-packages (from wandb) (1.4.4)\r\n",
      "Requirement already satisfied: protobuf!=4.21.0,<5,>=3.19.0 in /opt/conda/lib/python3.10/site-packages (from wandb) (3.20.3)\r\n",
      "Requirement already satisfied: torch in /opt/conda/lib/python3.10/site-packages (from torchaudio) (2.1.2)\r\n",
      "Requirement already satisfied: numpy>=1.14.0 in /opt/conda/lib/python3.10/site-packages (from decord) (1.26.4)\r\n",
      "Requirement already satisfied: attrs>=19.2.0 in /opt/conda/lib/python3.10/site-packages (from jsonlines) (23.2.0)\r\n",
      "Requirement already satisfied: filelock in /opt/conda/lib/python3.10/site-packages (from transformers) (3.13.1)\r\n",
      "Requirement already satisfied: huggingface-hub<1.0,>=0.19.3 in /opt/conda/lib/python3.10/site-packages (from transformers) (0.22.2)\r\n",
      "Requirement already satisfied: packaging>=20.0 in /opt/conda/lib/python3.10/site-packages (from transformers) (21.3)\r\n",
      "Requirement already satisfied: regex!=2019.12.17 in /opt/conda/lib/python3.10/site-packages (from transformers) (2023.12.25)\r\n",
      "Requirement already satisfied: tokenizers<0.19,>=0.14 in /opt/conda/lib/python3.10/site-packages (from transformers) (0.15.2)\r\n",
      "Requirement already satisfied: safetensors>=0.4.1 in /opt/conda/lib/python3.10/site-packages (from transformers) (0.4.3)\r\n",
      "Requirement already satisfied: tqdm>=4.27 in /opt/conda/lib/python3.10/site-packages (from transformers) (4.66.1)\r\n",
      "Requirement already satisfied: pillow!=8.3.*,>=5.3.0 in /opt/conda/lib/python3.10/site-packages (from torchvision) (9.5.0)\r\n",
      "Requirement already satisfied: six>=1.4.0 in /opt/conda/lib/python3.10/site-packages (from docker-pycreds>=0.4.0->wandb) (1.16.0)\r\n",
      "Requirement already satisfied: gitdb<5,>=4.0.1 in /opt/conda/lib/python3.10/site-packages (from GitPython!=3.1.29,>=1.0.0->wandb) (4.0.11)\r\n",
      "Requirement already satisfied: fsspec>=2023.5.0 in /opt/conda/lib/python3.10/site-packages (from huggingface-hub<1.0,>=0.19.3->transformers) (2024.2.0)\r\n",
      "Requirement already satisfied: typing-extensions>=3.7.4.3 in /opt/conda/lib/python3.10/site-packages (from huggingface-hub<1.0,>=0.19.3->transformers) (4.9.0)\r\n",
      "Requirement already satisfied: pyparsing!=3.0.5,>=2.0.2 in /opt/conda/lib/python3.10/site-packages (from packaging>=20.0->transformers) (3.1.1)\r\n",
      "Requirement already satisfied: charset-normalizer<4,>=2 in /opt/conda/lib/python3.10/site-packages (from requests<3,>=2.0.0->wandb) (3.3.2)\r\n",
      "Requirement already satisfied: idna<4,>=2.5 in /opt/conda/lib/python3.10/site-packages (from requests<3,>=2.0.0->wandb) (3.6)\r\n",
      "Requirement already satisfied: urllib3<3,>=1.21.1 in /opt/conda/lib/python3.10/site-packages (from requests<3,>=2.0.0->wandb) (1.26.18)\r\n",
      "Requirement already satisfied: certifi>=2017.4.17 in /opt/conda/lib/python3.10/site-packages (from requests<3,>=2.0.0->wandb) (2024.2.2)\r\n",
      "Requirement already satisfied: sympy in /opt/conda/lib/python3.10/site-packages (from torch->torchaudio) (1.12)\r\n",
      "Requirement already satisfied: networkx in /opt/conda/lib/python3.10/site-packages (from torch->torchaudio) (3.2.1)\r\n",
      "Requirement already satisfied: jinja2 in /opt/conda/lib/python3.10/site-packages (from torch->torchaudio) (3.1.2)\r\n",
      "Requirement already satisfied: smmap<6,>=3.0.1 in /opt/conda/lib/python3.10/site-packages (from gitdb<5,>=4.0.1->GitPython!=3.1.29,>=1.0.0->wandb) (5.0.1)\r\n",
      "Requirement already satisfied: MarkupSafe>=2.0 in /opt/conda/lib/python3.10/site-packages (from jinja2->torch->torchaudio) (2.1.3)\r\n",
      "Requirement already satisfied: mpmath>=0.19 in /opt/conda/lib/python3.10/site-packages (from sympy->torch->torchaudio) (1.3.0)\r\n",
      "Downloading decord-0.6.0-py3-none-manylinux2010_x86_64.whl (13.6 MB)\r\n",
      "\u001b[2K   \u001b[90m━━━━━━━━━━━━━━━━━━━━━━━━━━━━━━━━━━━━━━━━\u001b[0m \u001b[32m13.6/13.6 MB\u001b[0m \u001b[31m56.0 MB/s\u001b[0m eta \u001b[36m0:00:00\u001b[0m\r\n",
      "\u001b[?25hDownloading jsonlines-4.0.0-py3-none-any.whl (8.7 kB)\r\n",
      "Installing collected packages: jsonlines, decord\r\n",
      "Successfully installed decord-0.6.0 jsonlines-4.0.0\r\n"
     ]
    }
   ],
   "source": [
    "%cd '/kaggle/working/MMSRec'\n",
    "!sh weights/clip/download.sh\n",
    "!pip install wandb easydict pynvml torchaudio decord jsonlines transformers torchvision"
   ]
  },
  {
   "cell_type": "code",
   "execution_count": 4,
   "id": "0c1ea694",
   "metadata": {
    "execution": {
     "iopub.execute_input": "2024-04-22T03:38:52.678491Z",
     "iopub.status.busy": "2024-04-22T03:38:52.678035Z",
     "iopub.status.idle": "2024-04-22T03:38:58.888024Z",
     "shell.execute_reply": "2024-04-22T03:38:58.886675Z"
    },
    "papermill": {
     "duration": 6.224296,
     "end_time": "2024-04-22T03:38:58.890507",
     "exception": false,
     "start_time": "2024-04-22T03:38:52.666211",
     "status": "completed"
    },
    "tags": []
   },
   "outputs": [
    {
     "name": "stdout",
     "output_type": "stream",
     "text": [
      "/kaggle/working/MMSRec/dataset/amazon/raw\n",
      "/kaggle/working/MMSRec/dataset/amazon/raw/Beauty\n",
      "/bin/bash: t: command not found\r\n",
      "--2024-04-22 03:38:55--  http://snap.stanford.edu/data/amazon/productGraph/categoryFiles/meta_Beauty.json.gz\r\n",
      "Resolving snap.stanford.edu (snap.stanford.edu)... 171.64.75.80\r\n",
      "Connecting to snap.stanford.edu (snap.stanford.edu)|171.64.75.80|:80... connected.\r\n",
      "HTTP request sent, awaiting response... 200 OK\r\n",
      "Length: 99156148 (95M) [application/x-gzip]\r\n",
      "Saving to: 'meta_Beauty.json.gz'\r\n",
      "\r\n",
      "meta_Beauty.json.gz 100%[===================>]  94.56M  34.1MB/s    in 2.8s    \r\n",
      "\r\n",
      "2024-04-22 03:38:58 (34.1 MB/s) - 'meta_Beauty.json.gz' saved [99156148/99156148]\r\n",
      "\r\n",
      "/kaggle/working/MMSRec/dataset/amazon\n"
     ]
    }
   ],
   "source": [
    "%cd '/kaggle/working/MMSRec/dataset/amazon/raw'\n",
    "\n",
    "# Amazon All Beauty\n",
    "!mkdir Beauty\n",
    "%cd ./Beauty\n",
    "!t --no-check-certificate http://snap.stanford.edu/data/amazon/productGraph/categoryFiles/ratings_Beauty.csv\n",
    "!wget --no-check-certificate http://snap.stanford.edu/data/amazon/productGraph/categoryFiles/meta_Beauty.json.gz\n",
    "%cd '/kaggle/working/MMSRec/dataset/amazon'"
   ]
  },
  {
   "cell_type": "code",
   "execution_count": 5,
   "id": "d07fbff2",
   "metadata": {
    "execution": {
     "iopub.execute_input": "2024-04-22T03:38:58.916562Z",
     "iopub.status.busy": "2024-04-22T03:38:58.915989Z",
     "iopub.status.idle": "2024-04-22T03:39:00.101553Z",
     "shell.execute_reply": "2024-04-22T03:39:00.100199Z"
    },
    "papermill": {
     "duration": 1.201644,
     "end_time": "2024-04-22T03:39:00.104284",
     "exception": false,
     "start_time": "2024-04-22T03:38:58.902640",
     "status": "completed"
    },
    "tags": []
   },
   "outputs": [
    {
     "name": "stdout",
     "output_type": "stream",
     "text": [
      "python: can't open file '/kaggle/working/MMSRec/dataset/amazon/process_item.py': [Errno 2] No such file or directory\r\n"
     ]
    }
   ],
   "source": [
    "!python process_item.py"
   ]
  },
  {
   "cell_type": "code",
   "execution_count": 6,
   "id": "dd8f9da0",
   "metadata": {
    "execution": {
     "iopub.execute_input": "2024-04-22T03:39:00.131388Z",
     "iopub.status.busy": "2024-04-22T03:39:00.130948Z",
     "iopub.status.idle": "2024-04-22T03:39:01.331007Z",
     "shell.execute_reply": "2024-04-22T03:39:01.329510Z"
    },
    "papermill": {
     "duration": 1.217051,
     "end_time": "2024-04-22T03:39:01.333854",
     "exception": false,
     "start_time": "2024-04-22T03:39:00.116803",
     "status": "completed"
    },
    "tags": []
   },
   "outputs": [
    {
     "name": "stdout",
     "output_type": "stream",
     "text": [
      "python: can't open file '/kaggle/working/MMSRec/dataset/amazon/extract_features.py': [Errno 2] No such file or directory\r\n"
     ]
    }
   ],
   "source": [
    "!python extract_features.py"
   ]
  },
  {
   "cell_type": "code",
   "execution_count": 7,
   "id": "8468b9ed",
   "metadata": {
    "execution": {
     "iopub.execute_input": "2024-04-22T03:39:01.360722Z",
     "iopub.status.busy": "2024-04-22T03:39:01.360300Z",
     "iopub.status.idle": "2024-04-22T03:39:46.567217Z",
     "shell.execute_reply": "2024-04-22T03:39:46.565982Z"
    },
    "papermill": {
     "duration": 45.223689,
     "end_time": "2024-04-22T03:39:46.570004",
     "exception": false,
     "start_time": "2024-04-22T03:39:01.346315",
     "status": "completed"
    },
    "tags": []
   },
   "outputs": [
    {
     "name": "stdout",
     "output_type": "stream",
     "text": [
      "[2024-04-22 03:39:09,779] torch.distributed.run: [WARNING] master_addr is only used for static rdzv_backend and when rdzv_endpoint is not specified.\r\n",
      "/opt/conda/bin/python3.10: can't open file '/kaggle/working/MMSRec/dataset/amazon/finetune_amazon.py': [Errno 2] No such file or directory\r\n",
      "[2024-04-22 03:39:44,991] torch.distributed.elastic.multiprocessing.api: [ERROR] failed (exitcode: 2) local_rank: 0 (pid: 112) of binary: /opt/conda/bin/python3.10\r\n",
      "Traceback (most recent call last):\r\n",
      "  File \"/opt/conda/bin/torchrun\", line 8, in <module>\r\n",
      "    sys.exit(main())\r\n",
      "  File \"/opt/conda/lib/python3.10/site-packages/torch/distributed/elastic/multiprocessing/errors/__init__.py\", line 346, in wrapper\r\n",
      "    return f(*args, **kwargs)\r\n",
      "  File \"/opt/conda/lib/python3.10/site-packages/torch/distributed/run.py\", line 806, in main\r\n",
      "    run(args)\r\n",
      "  File \"/opt/conda/lib/python3.10/site-packages/torch/distributed/run.py\", line 797, in run\r\n",
      "    elastic_launch(\r\n",
      "  File \"/opt/conda/lib/python3.10/site-packages/torch/distributed/launcher/api.py\", line 134, in __call__\r\n",
      "    return launch_agent(self._config, self._entrypoint, list(args))\r\n",
      "  File \"/opt/conda/lib/python3.10/site-packages/torch/distributed/launcher/api.py\", line 264, in launch_agent\r\n",
      "    raise ChildFailedError(\r\n",
      "torch.distributed.elastic.multiprocessing.errors.ChildFailedError: \r\n",
      "============================================================\r\n",
      "finetune_amazon.py FAILED\r\n",
      "------------------------------------------------------------\r\n",
      "Failures:\r\n",
      "  <NO_OTHER_FAILURES>\r\n",
      "------------------------------------------------------------\r\n",
      "Root Cause (first observed failure):\r\n",
      "[0]:\r\n",
      "  time      : 2024-04-22_03:39:44\r\n",
      "  host      : 60592edbde3e\r\n",
      "  rank      : 0 (local_rank: 0)\r\n",
      "  exitcode  : 2 (pid: 112)\r\n",
      "  error_file: <N/A>\r\n",
      "  traceback : To enable traceback see: https://pytorch.org/docs/stable/elastic/errors.html\r\n",
      "============================================================\r\n"
     ]
    }
   ],
   "source": [
    "!torchrun --nnodes=1:5 --nproc_per_node=1 --max_restarts=0 --rdzv_id=1 --rdzv_backend=c10d --rdzv_endpoint=\"127.0.0.1:12309\" finetune_amazon.py"
   ]
  }
 ],
 "metadata": {
  "kaggle": {
   "accelerator": "nvidiaTeslaT4",
   "dataSources": [],
   "isGpuEnabled": true,
   "isInternetEnabled": true,
   "language": "python",
   "sourceType": "notebook"
  },
  "kernelspec": {
   "display_name": "Python 3",
   "language": "python",
   "name": "python3"
  },
  "language_info": {
   "codemirror_mode": {
    "name": "ipython",
    "version": 3
   },
   "file_extension": ".py",
   "mimetype": "text/x-python",
   "name": "python",
   "nbconvert_exporter": "python",
   "pygments_lexer": "ipython3",
   "version": "3.10.13"
  },
  "papermill": {
   "default_parameters": {},
   "duration": 106.43184,
   "end_time": "2024-04-22T03:39:47.103930",
   "environment_variables": {},
   "exception": null,
   "input_path": "__notebook__.ipynb",
   "output_path": "__notebook__.ipynb",
   "parameters": {},
   "start_time": "2024-04-22T03:38:00.672090",
   "version": "2.5.0"
  }
 },
 "nbformat": 4,
 "nbformat_minor": 5
}
